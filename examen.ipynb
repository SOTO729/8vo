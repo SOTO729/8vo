{
 "cells": [
  {
   "cell_type": "code",
   "execution_count": 37,
   "id": "96590e22",
   "metadata": {},
   "outputs": [
    {
     "data": {
      "text/plain": [
       "0.0007777777777777777"
      ]
     },
     "execution_count": 37,
     "metadata": {},
     "output_type": "execute_result"
    }
   ],
   "source": [
    "mmH2=2\n",
    "mmO2=32\n",
    "kmol_hH2=350/mmH2#kmol/h\n",
    "kmol_hO2=kmol_hH2/2\n",
    "((kmol_hO2*mmO2)/1000)/3600\n"
   ]
  },
  {
   "cell_type": "code",
   "execution_count": 39,
   "id": "5d711f7e",
   "metadata": {},
   "outputs": [
    {
     "data": {
      "text/plain": [
       "67.19999999999999"
      ]
     },
     "execution_count": 39,
     "metadata": {},
     "output_type": "execute_result"
    }
   ],
   "source": [
    "(((kmol_hO2*mmO2)/1000)*24)"
   ]
  },
  {
   "cell_type": "code",
   "execution_count": 17,
   "id": "be4b6cfe",
   "metadata": {},
   "outputs": [
    {
     "data": {
      "text/plain": [
       "23.58"
      ]
     },
     "execution_count": 17,
     "metadata": {},
     "output_type": "execute_result"
    }
   ],
   "source": [
    "100-76.42"
   ]
  },
  {
   "cell_type": "code",
   "execution_count": 19,
   "id": "fa6af708",
   "metadata": {},
   "outputs": [
    {
     "data": {
      "text/plain": [
       "12090.640000000001"
      ]
     },
     "execution_count": 19,
     "metadata": {},
     "output_type": "execute_result"
    }
   ],
   "source": [
    "26284.00*0.23/0.5"
   ]
  },
  {
   "cell_type": "code",
   "execution_count": null,
   "id": "2133efa0",
   "metadata": {},
   "outputs": [],
   "source": []
  }
 ],
 "metadata": {
  "kernelspec": {
   "display_name": "Python 3",
   "language": "python",
   "name": "python3"
  },
  "language_info": {
   "codemirror_mode": {
    "name": "ipython",
    "version": 3
   },
   "file_extension": ".py",
   "mimetype": "text/x-python",
   "name": "python",
   "nbconvert_exporter": "python",
   "pygments_lexer": "ipython3",
   "version": "3.13.3"
  }
 },
 "nbformat": 4,
 "nbformat_minor": 5
}
