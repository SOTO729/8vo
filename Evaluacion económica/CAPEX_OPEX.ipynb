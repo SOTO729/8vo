{
 "cells": [
  {
   "cell_type": "markdown",
   "id": "b5ad917e",
   "metadata": {},
   "source": [
    "<h1>Operating cost</h1>"
   ]
  },
  {
   "cell_type": "markdown",
   "id": "846dfaab",
   "metadata": {},
   "source": [
    "The cost of producing a chemical product will include the items listed below. They are\n",
    "divided into two groups.\n",
    "1. Fixed operating costs: costs that do not vary with production rate. These are the bills that have to be paid whatever the quantity produced.\n",
    "2. Variable operating costs: costs that are dependent on the amount of product produced.\n"
   ]
  },
  {
   "cell_type": "markdown",
   "id": "f49ea799",
   "metadata": {},
   "source": [
    "<h2>Fixed cost</h2>"
   ]
  },
  {
   "cell_type": "markdown",
   "id": "b4300a5e",
   "metadata": {},
   "source": [
    "Fixed cost consider:\n",
    "<ol>\n",
    "    <li>Maintenance (labour and materials): typically 5 to 15 per cent of the installed capital costs</li>\n",
    "    <li>Utilities (Services)</li>\n",
    "         <ol>\n",
    "            <li>Power</li>\n",
    "            <li>Cooling and process water</li>\n",
    "        </ol>\n",
    "    <li>Taxes </li>\n",
    "    <li>Operation labour: Should be calculated from an estimate of the number of shift and day personnel needed, should include:</li>\n",
    "        <ol>\n",
    "            <li>Vacaciones</li>\n",
    "            <li>Aguinaldo</li>\n",
    "            <li>Prima vacacional</li>\n",
    "            <li>IMSS</li>\n",
    "            <li>INFONAVIT</li>\n",
    "        </oll>\n",
    "</li>\n",
    "</ol>\n",
    "\n",
    "\n",
    "\n"
   ]
  },
  {
   "cell_type": "markdown",
   "id": "9ccb0740",
   "metadata": {},
   "source": [
    "<h3>Maintenace</h3>"
   ]
  },
  {
   "cell_type": "code",
   "execution_count": 998,
   "id": "eaeb17f4",
   "metadata": {},
   "outputs": [
    {
     "name": "stdout",
     "output_type": "stream",
     "text": [
      "El costo de mantenimiento es: $369,820,779.91 MNX al año\n"
     ]
    }
   ],
   "source": [
    "class Maintenance:\n",
    "    def __init__(self, installed_capital_cost):\n",
    "        self.installed_capital_cost = installed_capital_cost\n",
    "        self.calculate_maintenance_cost()\n",
    "\n",
    "    def calculate_maintenance_cost(self):\n",
    "        self.maintenance_cost=self.installed_capital_cost * 0.10\n",
    "        return self.maintenance_cost\n",
    "     \n",
    "\n",
    "compresores=4642515.74\t #USD total\n",
    "tanques=190000000 #USD total\n",
    "\n",
    "total_equipos=(compresores+tanques)*19\n",
    "Main_total = Maintenance(total_equipos)\n",
    "Main_total.maintenance_cost\n",
    "print(\"El costo de mantenimiento es: ${:,.2f}\".format(Main_total.maintenance_cost),\"MNX al año\")"
   ]
  },
  {
   "cell_type": "markdown",
   "id": "74089904",
   "metadata": {},
   "source": [
    "<h3>Utilities</h3>"
   ]
  },
  {
   "cell_type": "markdown",
   "id": "ed7c3546",
   "metadata": {},
   "source": [
    "**Power**"
   ]
  },
  {
   "cell_type": "code",
   "execution_count": 999,
   "id": "60f9e51f",
   "metadata": {},
   "outputs": [
    {
     "name": "stdout",
     "output_type": "stream",
     "text": [
      "El costo de energía es: $337,069.56 MNX al año\n"
     ]
    }
   ],
   "source": [
    "\"\"\"Considerando que deacuero con datos de la CFE, el precio de la energia es del 1.4764 $/kWh  en punta para el estado de baja California, municipio de Mexicali\"\"\"\n",
    "\"\"\"Referencia: https://app.cfe.mx/Aplicaciones/CCFE/Tarifas/TarifasCREIndustria/Tarifas/DemandaIndustrialSub.aspx\"\"\"\n",
    "\n",
    "def energy_cost(energy_kwh):\n",
    "    price_per_kwh = 1.4764  # Price in $/kWh\n",
    "    cost_day = energy_kwh * price_per_kwh  # Corrected multiplication\n",
    "    total_cost = cost_day * 365  # Total cost for a year\n",
    "    # Agregar distribución y capacidad de la CFE\n",
    "    return total_cost\n",
    "\n",
    "energy = 625.493254  # kW/h\n",
    "Power_total = energy_cost(energy)\n",
    "print(\"El costo de energía es: ${:,.2f}\".format(Power_total), \"MNX al año\")\n"
   ]
  },
  {
   "cell_type": "markdown",
   "id": "34b2d4db",
   "metadata": {},
   "source": [
    "**Cooling water**"
   ]
  },
  {
   "cell_type": "code",
   "execution_count": 1000,
   "id": "7674fae3",
   "metadata": {},
   "outputs": [],
   "source": [
    "#SERVICIO INDUSTRIAL MEDIDO\n",
    "#tarifa de industrial con cuotas de Baja california \n",
    "#https://www.oosapascomondu.gob.mx/index.php/servicios/Cuotas\n",
    "\n",
    "\n",
    "def water_cost(water):\n",
    "    price_per_m3=39.16 #MNX\n",
    "    water_m3=water*1000 #Convertir de L a m3\n",
    "    CWater_total = water_m3 * price_per_m3\n",
    "    return CWater_total \n",
    "\n",
    "########## costos de agua \n",
    "#water_total=water_cost(1000) #Replace with your input value\n",
    "#water_total"
   ]
  },
  {
   "cell_type": "markdown",
   "id": "37e483d4",
   "metadata": {},
   "source": [
    "<h3>Operating labour</h3>"
   ]
  },
  {
   "cell_type": "code",
   "execution_count": 1001,
   "id": "1233e4cc",
   "metadata": {},
   "outputs": [
    {
     "data": {
      "text/html": [
       "<div>\n",
       "<style scoped>\n",
       "    .dataframe tbody tr th:only-of-type {\n",
       "        vertical-align: middle;\n",
       "    }\n",
       "\n",
       "    .dataframe tbody tr th {\n",
       "        vertical-align: top;\n",
       "    }\n",
       "\n",
       "    .dataframe thead th {\n",
       "        text-align: right;\n",
       "    }\n",
       "</style>\n",
       "<table border=\"1\" class=\"dataframe\">\n",
       "  <thead>\n",
       "    <tr style=\"text-align: right;\">\n",
       "      <th></th>\n",
       "      <th>Personal</th>\n",
       "      <th>Cantidad de personal</th>\n",
       "      <th>Salario c/u</th>\n",
       "      <th>Salario total (MNX/mes)</th>\n",
       "      <th>Salario total (MNX/año)</th>\n",
       "      <th>Vacaciones (MNX/año)</th>\n",
       "      <th>Aguinaldo (MNX/año)</th>\n",
       "      <th>Prima Vacacional (MNX/año)</th>\n",
       "      <th>Salario base de cotización (SBC/cu/diario)</th>\n",
       "      <th>IMSS/mes</th>\n",
       "      <th>INFONAVIT/mes</th>\n",
       "      <th>IMSS/año</th>\n",
       "      <th>INFONAVIT/año</th>\n",
       "      <th>ISN (MXN/año)</th>\n",
       "    </tr>\n",
       "  </thead>\n",
       "  <tbody>\n",
       "    <tr>\n",
       "      <th>0</th>\n",
       "      <td>Ingeniero de procesos</td>\n",
       "      <td>2.0</td>\n",
       "      <td>$30,000.00</td>\n",
       "      <td>$60,000.00</td>\n",
       "      <td>$720,000.00</td>\n",
       "      <td>$12,000.00</td>\n",
       "      <td>$30,000.00</td>\n",
       "      <td>$6,000.00</td>\n",
       "      <td>$1,065.75</td>\n",
       "      <td>$16,625.75</td>\n",
       "      <td>$3,197.26</td>\n",
       "      <td>$199,509.04</td>\n",
       "      <td>$38,367.12</td>\n",
       "      <td>$13,824.00</td>\n",
       "    </tr>\n",
       "    <tr>\n",
       "      <th>1</th>\n",
       "      <td>Operadores de planta</td>\n",
       "      <td>4.0</td>\n",
       "      <td>$9,000.00</td>\n",
       "      <td>$36,000.00</td>\n",
       "      <td>$432,000.00</td>\n",
       "      <td>$7,200.00</td>\n",
       "      <td>$18,000.00</td>\n",
       "      <td>$3,600.00</td>\n",
       "      <td>$319.73</td>\n",
       "      <td>$9,975.45</td>\n",
       "      <td>$1,918.36</td>\n",
       "      <td>$119,705.42</td>\n",
       "      <td>$23,020.27</td>\n",
       "      <td>$8,294.40</td>\n",
       "    </tr>\n",
       "    <tr>\n",
       "      <th>2</th>\n",
       "      <td>Personal Técnico y de Mantenimiento mecánico</td>\n",
       "      <td>2.0</td>\n",
       "      <td>$11,000.00</td>\n",
       "      <td>$22,000.00</td>\n",
       "      <td>$264,000.00</td>\n",
       "      <td>$4,400.00</td>\n",
       "      <td>$11,000.00</td>\n",
       "      <td>$2,200.00</td>\n",
       "      <td>$390.78</td>\n",
       "      <td>$6,096.11</td>\n",
       "      <td>$1,172.33</td>\n",
       "      <td>$73,153.32</td>\n",
       "      <td>$14,067.95</td>\n",
       "      <td>$5,068.80</td>\n",
       "    </tr>\n",
       "    <tr>\n",
       "      <th>3</th>\n",
       "      <td>Ingeniero de seguridad de procesos</td>\n",
       "      <td>1.0</td>\n",
       "      <td>$25,000.00</td>\n",
       "      <td>$25,000.00</td>\n",
       "      <td>$300,000.00</td>\n",
       "      <td>$5,000.00</td>\n",
       "      <td>$12,500.00</td>\n",
       "      <td>$2,500.00</td>\n",
       "      <td>$888.13</td>\n",
       "      <td>$6,927.40</td>\n",
       "      <td>$1,332.19</td>\n",
       "      <td>$83,128.77</td>\n",
       "      <td>$15,986.30</td>\n",
       "      <td>$5,760.00</td>\n",
       "    </tr>\n",
       "    <tr>\n",
       "      <th>4</th>\n",
       "      <td>Administrador/a general</td>\n",
       "      <td>1.0</td>\n",
       "      <td>$20,000.00</td>\n",
       "      <td>$20,000.00</td>\n",
       "      <td>$240,000.00</td>\n",
       "      <td>$4,000.00</td>\n",
       "      <td>$10,000.00</td>\n",
       "      <td>$2,000.00</td>\n",
       "      <td>$710.50</td>\n",
       "      <td>$5,541.92</td>\n",
       "      <td>$1,065.75</td>\n",
       "      <td>$66,503.01</td>\n",
       "      <td>$12,789.04</td>\n",
       "      <td>$4,608.00</td>\n",
       "    </tr>\n",
       "    <tr>\n",
       "      <th>5</th>\n",
       "      <td>Responsable de recursos humanos</td>\n",
       "      <td>1.0</td>\n",
       "      <td>$20,000.00</td>\n",
       "      <td>$20,000.00</td>\n",
       "      <td>$240,000.00</td>\n",
       "      <td>$4,000.00</td>\n",
       "      <td>$10,000.00</td>\n",
       "      <td>$2,000.00</td>\n",
       "      <td>$710.50</td>\n",
       "      <td>$5,541.92</td>\n",
       "      <td>$1,065.75</td>\n",
       "      <td>$66,503.01</td>\n",
       "      <td>$12,789.04</td>\n",
       "      <td>$4,608.00</td>\n",
       "    </tr>\n",
       "    <tr>\n",
       "      <th>6</th>\n",
       "      <td>Ingeniero ambiental</td>\n",
       "      <td>1.0</td>\n",
       "      <td>$25,000.00</td>\n",
       "      <td>$25,000.00</td>\n",
       "      <td>$300,000.00</td>\n",
       "      <td>$5,000.00</td>\n",
       "      <td>$12,500.00</td>\n",
       "      <td>$2,500.00</td>\n",
       "      <td>$888.13</td>\n",
       "      <td>$6,927.40</td>\n",
       "      <td>$1,332.19</td>\n",
       "      <td>$83,128.77</td>\n",
       "      <td>$15,986.30</td>\n",
       "      <td>$5,760.00</td>\n",
       "    </tr>\n",
       "    <tr>\n",
       "      <th>7</th>\n",
       "      <td>Personal de intendendia industrial</td>\n",
       "      <td>2.0</td>\n",
       "      <td>$8,000.00</td>\n",
       "      <td>$16,000.00</td>\n",
       "      <td>$192,000.00</td>\n",
       "      <td>$3,200.00</td>\n",
       "      <td>$8,000.00</td>\n",
       "      <td>$1,600.00</td>\n",
       "      <td>$284.20</td>\n",
       "      <td>$4,433.53</td>\n",
       "      <td>$852.60</td>\n",
       "      <td>$53,202.41</td>\n",
       "      <td>$10,231.23</td>\n",
       "      <td>$3,686.40</td>\n",
       "    </tr>\n",
       "    <tr>\n",
       "      <th>Total</th>\n",
       "      <td>Total</td>\n",
       "      <td>14.0</td>\n",
       "      <td>$148,000.00</td>\n",
       "      <td>$224,000.00</td>\n",
       "      <td>$2,688,000.00</td>\n",
       "      <td>$44,800.00</td>\n",
       "      <td>$112,000.00</td>\n",
       "      <td>$22,400.00</td>\n",
       "      <td>$nan</td>\n",
       "      <td>$62,069.48</td>\n",
       "      <td>$11,936.44</td>\n",
       "      <td>$744,833.75</td>\n",
       "      <td>$143,237.26</td>\n",
       "      <td>$51,609.60</td>\n",
       "    </tr>\n",
       "  </tbody>\n",
       "</table>\n",
       "</div>"
      ],
      "text/plain": [
       "                                           Personal  Cantidad de personal  \\\n",
       "0                             Ingeniero de procesos                   2.0   \n",
       "1                             Operadores de planta                    4.0   \n",
       "2      Personal Técnico y de Mantenimiento mecánico                   2.0   \n",
       "3                Ingeniero de seguridad de procesos                   1.0   \n",
       "4                           Administrador/a general                   1.0   \n",
       "5                   Responsable de recursos humanos                   1.0   \n",
       "6                               Ingeniero ambiental                   1.0   \n",
       "7                Personal de intendendia industrial                   2.0   \n",
       "Total                                         Total                  14.0   \n",
       "\n",
       "       Salario c/u Salario total (MNX/mes) Salario total (MNX/año)  \\\n",
       "0       $30,000.00              $60,000.00             $720,000.00   \n",
       "1        $9,000.00              $36,000.00             $432,000.00   \n",
       "2       $11,000.00              $22,000.00             $264,000.00   \n",
       "3       $25,000.00              $25,000.00             $300,000.00   \n",
       "4       $20,000.00              $20,000.00             $240,000.00   \n",
       "5       $20,000.00              $20,000.00             $240,000.00   \n",
       "6       $25,000.00              $25,000.00             $300,000.00   \n",
       "7        $8,000.00              $16,000.00             $192,000.00   \n",
       "Total  $148,000.00             $224,000.00           $2,688,000.00   \n",
       "\n",
       "      Vacaciones (MNX/año) Aguinaldo (MNX/año) Prima Vacacional (MNX/año)  \\\n",
       "0               $12,000.00          $30,000.00                  $6,000.00   \n",
       "1                $7,200.00          $18,000.00                  $3,600.00   \n",
       "2                $4,400.00          $11,000.00                  $2,200.00   \n",
       "3                $5,000.00          $12,500.00                  $2,500.00   \n",
       "4                $4,000.00          $10,000.00                  $2,000.00   \n",
       "5                $4,000.00          $10,000.00                  $2,000.00   \n",
       "6                $5,000.00          $12,500.00                  $2,500.00   \n",
       "7                $3,200.00           $8,000.00                  $1,600.00   \n",
       "Total           $44,800.00         $112,000.00                 $22,400.00   \n",
       "\n",
       "      Salario base de cotización (SBC/cu/diario)    IMSS/mes INFONAVIT/mes  \\\n",
       "0                                      $1,065.75  $16,625.75     $3,197.26   \n",
       "1                                        $319.73   $9,975.45     $1,918.36   \n",
       "2                                        $390.78   $6,096.11     $1,172.33   \n",
       "3                                        $888.13   $6,927.40     $1,332.19   \n",
       "4                                        $710.50   $5,541.92     $1,065.75   \n",
       "5                                        $710.50   $5,541.92     $1,065.75   \n",
       "6                                        $888.13   $6,927.40     $1,332.19   \n",
       "7                                        $284.20   $4,433.53       $852.60   \n",
       "Total                                       $nan  $62,069.48    $11,936.44   \n",
       "\n",
       "          IMSS/año INFONAVIT/año ISN (MXN/año)  \n",
       "0      $199,509.04    $38,367.12    $13,824.00  \n",
       "1      $119,705.42    $23,020.27     $8,294.40  \n",
       "2       $73,153.32    $14,067.95     $5,068.80  \n",
       "3       $83,128.77    $15,986.30     $5,760.00  \n",
       "4       $66,503.01    $12,789.04     $4,608.00  \n",
       "5       $66,503.01    $12,789.04     $4,608.00  \n",
       "6       $83,128.77    $15,986.30     $5,760.00  \n",
       "7       $53,202.41    $10,231.23     $3,686.40  \n",
       "Total  $744,833.75   $143,237.26    $51,609.60  "
      ]
     },
     "execution_count": 1001,
     "metadata": {},
     "output_type": "execute_result"
    }
   ],
   "source": [
    "import pandas as pd\n",
    "trabajo = {\n",
    "    \"Personal\": [\"Ingeniero de procesos\", \n",
    "                 \"Operadores de planta \", \n",
    "                 \"Personal Técnico y de Mantenimiento mecánico\",\n",
    "                 \"Ingeniero de seguridad de procesos\",\n",
    "                 \"Administrador/a general\",\n",
    "                 \"Responsable de recursos humanos\",\n",
    "                 \"Ingeniero ambiental\",\n",
    "                 \"Personal de intendendia industrial\"],\n",
    "    \"Cantidad de personal\": [2,\n",
    "                             4,\n",
    "                             2,\n",
    "                             1,\n",
    "                             1,\n",
    "                             1,\n",
    "                             1,\n",
    "                             2],\n",
    "    \"Salario c/u\": [30000,\n",
    "                    9000,\n",
    "                    11000,\n",
    "                    25000,\n",
    "                    20000,\n",
    "                    20000,\n",
    "                    25000,\n",
    "                    8000],\n",
    "}\n",
    "\n",
    "#Dataframe creation and calculations of the salary per month and year\n",
    "recursos_humano = pd.DataFrame(trabajo)\n",
    "\n",
    "#modificaciones de la tabla\n",
    "recursos_humano[\"Salario total (MNX/mes)\"] = recursos_humano[\"Cantidad de personal\"] * recursos_humano[\"Salario c/u\"]\n",
    "recursos_humano[\"Salario total (MNX/año)\"] = recursos_humano[\"Salario total (MNX/mes)\"] * 12 #meses de trabajo al año\n",
    "recursos_humano[\"Vacaciones (MNX/año)\"]=(recursos_humano[\"Salario c/u\"]/30*6)*recursos_humano[\"Cantidad de personal\"]# LFT establece un mínimo de 6 días de vacaciones anuales. Este número aumenta en 2 días por cada año de servicio, hasta un máximo de 20 días. En este caso, se considera un mínimo de 6 días para todos los trabajadores.\n",
    "recursos_humano[\"Aguinaldo (MNX/año)\"]=(recursos_humano[\"Salario c/u\"]/30*15)*recursos_humano[\"Cantidad de personal\"]#La LFT establece un aguinaldo equivalente a 15 días de salario\n",
    "recursos_humano[\"Prima Vacacional (MNX/año)\"]=(recursos_humano[\"Salario c/u\"]/30*12*0.25)*recursos_humano[\"Cantidad de personal\"]#La LFT también establece una prima vacacional del 25% del salario por cada día de vacaciones\n",
    "##calculo de prestaciones IMSS e INFONAVIT\n",
    "##El salario base de cotización (SBC) es el salario diario integrado que se utiliza para calcular las aportaciones al IMSS y al INFONAVIT.\n",
    "recursos_humano[\"Salario base de cotización (SBC/cu/diario)\"]=(recursos_humano[\"Salario c/u\"]/30)+((recursos_humano[\"Vacaciones (MNX/año)\"]/recursos_humano[\"Cantidad de personal\"])+(recursos_humano[\"Aguinaldo (MNX/año)\"]/recursos_humano[\"Cantidad de personal\"])+(recursos_humano[\"Prima Vacacional (MNX/año)\"]/recursos_humano[\"Cantidad de personal\"]))/365\n",
    "##El IMSS establece una tasa de aportación del 26% sobre el SBC para el seguro de enfermedades y maternidad, riesgos de trabajo, guarderías y prestaciones sociales.\n",
    "recursos_humano[\"IMSS/mes\"] = recursos_humano[\"Salario base de cotización (SBC/cu/diario)\"]*30*0.26 *recursos_humano[\"Cantidad de personal\"]\n",
    "##El INFONAVIT establece una tasa de aportación del 5% sobre el SBC para el fondo de vivienda.\n",
    "recursos_humano[\"INFONAVIT/mes\"] = recursos_humano[\"Salario base de cotización (SBC/cu/diario)\"]*30*0.05 *recursos_humano[\"Cantidad de personal\"]\n",
    "\n",
    "recursos_humano[\"IMSS/año\"] = recursos_humano[\"IMSS/mes\"]*12 #12 meses al año\n",
    "recursos_humano[\"INFONAVIT/año\"] = recursos_humano[\"INFONAVIT/mes\"]*12 #12 meses al año\n",
    "## IMPUESTOS\n",
    "recursos_humano[\"ISN (MXN/año)\"] =(recursos_humano[\"Salario total (MNX/año)\"]+recursos_humano[\"Vacaciones (MNX/año)\"]+recursos_humano[\"Aguinaldo (MNX/año)\"]+recursos_humano[\"Prima Vacacional (MNX/año)\"])*0.018\n",
    "\n",
    "\n",
    "##sumar todo los datos del los cotos de personal\n",
    "recursos_humano.loc[\"Total\"] = recursos_humano[[\"Cantidad de personal\", \"Salario c/u\", \"Salario total (MNX/mes)\",\"Salario total (MNX/año)\",\n",
    "                                                \"Vacaciones (MNX/año)\",\"Aguinaldo (MNX/año)\",\"Prima Vacacional (MNX/año)\",\"IMSS/año\",\"INFONAVIT/año\",\"IMSS/mes\",\"INFONAVIT/mes\", \"ISN (MXN/año)\"]].replace('[\\$,]', '', regex=True).astype(float).sum()\n",
    "recursos_humano.loc[\"Total\", \"Personal\"] = \"Total\"\n",
    "\n",
    "\n",
    "##Guardar valores para que se mantengan con numero y poder hacer operacion con ellos \n",
    "total_anual=recursos_humano.iloc[-1][\"Salario total (MNX/año)\"]\n",
    "total_vacaciones_anual=recursos_humano.iloc[-1][\"Vacaciones (MNX/año)\"]\n",
    "total_aguinaldo_anual=recursos_humano.iloc[-1][\"Aguinaldo (MNX/año)\"]     \n",
    "total_prima_vacacional_anual=recursos_humano.iloc[-1][\"Prima Vacacional (MNX/año)\"]\n",
    "total_IMSS_anual=recursos_humano.iloc[-1][\"IMSS/año\"]\n",
    "total_INFONAVIT_anual=recursos_humano.iloc[-1][\"INFONAVIT/año\"]\n",
    "tax_total=recursos_humano.iloc[-1][\"ISN (MXN/año)\"]\n",
    " \n",
    "\n",
    "##Formato de la tabla\n",
    "recursos_humano[\"Salario total (MNX/mes)\"] = recursos_humano[\"Salario total (MNX/mes)\"].apply(lambda x: f\"${x:,.2f}\")\n",
    "recursos_humano[\"Salario total (MNX/año)\"] = recursos_humano[\"Salario total (MNX/año)\"].apply(lambda x: f\"${x:,.2f}\")\n",
    "recursos_humano[\"Aguinaldo (MNX/año)\"] = recursos_humano[\"Aguinaldo (MNX/año)\"].apply(lambda x: f\"${x:,.2f}\")\n",
    "recursos_humano[\"Vacaciones (MNX/año)\"] = recursos_humano[\"Vacaciones (MNX/año)\"].apply(lambda x: f\"${x:,.2f}\")\n",
    "recursos_humano[\"Prima Vacacional (MNX/año)\"] = recursos_humano[\"Prima Vacacional (MNX/año)\"].apply(lambda x: f\"${x:,.2f}\")\n",
    "recursos_humano[\"Salario c/u\"] = recursos_humano[\"Salario c/u\"].apply(lambda x: f\"${x:,.2f}\")\n",
    "recursos_humano[\"Salario base de cotización (SBC/cu/diario)\"] = recursos_humano[\"Salario base de cotización (SBC/cu/diario)\"].apply(lambda x: f\"${x:,.2f}\")\n",
    "recursos_humano[\"IMSS/mes\"] = recursos_humano[\"IMSS/mes\"].apply(lambda x: f\"${x:,.2f}\")\n",
    "recursos_humano[\"INFONAVIT/mes\"] = recursos_humano[\"INFONAVIT/mes\"].apply(lambda x: f\"${x:,.2f}\")\n",
    "recursos_humano[\"IMSS/año\"] = recursos_humano[\"IMSS/año\"].apply(lambda x: f\"${x:,.2f}\")\n",
    "recursos_humano[\"INFONAVIT/año\"] = recursos_humano[\"INFONAVIT/año\"].apply(lambda x: f\"${x:,.2f}\")\n",
    "recursos_humano[\"ISN (MXN/año)\"] = recursos_humano[\"ISN (MXN/año)\"].apply(lambda x: f\"${x:,.2f}\")\n",
    "recursos_humano"
   ]
  },
  {
   "cell_type": "code",
   "execution_count": 1002,
   "id": "1699d095",
   "metadata": {},
   "outputs": [
    {
     "data": {
      "text/html": [
       "<div>\n",
       "<style scoped>\n",
       "    .dataframe tbody tr th:only-of-type {\n",
       "        vertical-align: middle;\n",
       "    }\n",
       "\n",
       "    .dataframe tbody tr th {\n",
       "        vertical-align: top;\n",
       "    }\n",
       "\n",
       "    .dataframe thead th {\n",
       "        text-align: right;\n",
       "    }\n",
       "</style>\n",
       "<table border=\"1\" class=\"dataframe\">\n",
       "  <thead>\n",
       "    <tr style=\"text-align: right;\">\n",
       "      <th></th>\n",
       "      <th>Concepto</th>\n",
       "      <th>Monto (MNX/año)</th>\n",
       "    </tr>\n",
       "  </thead>\n",
       "  <tbody>\n",
       "    <tr>\n",
       "      <th>0</th>\n",
       "      <td>Total salarial anual</td>\n",
       "      <td>$2,688,000.00</td>\n",
       "    </tr>\n",
       "    <tr>\n",
       "      <th>1</th>\n",
       "      <td>Total vacaciones anual</td>\n",
       "      <td>$44,800.00</td>\n",
       "    </tr>\n",
       "    <tr>\n",
       "      <th>2</th>\n",
       "      <td>Total aguinaldo anual</td>\n",
       "      <td>$112,000.00</td>\n",
       "    </tr>\n",
       "    <tr>\n",
       "      <th>3</th>\n",
       "      <td>Total prima vacacional anual</td>\n",
       "      <td>$22,400.00</td>\n",
       "    </tr>\n",
       "    <tr>\n",
       "      <th>4</th>\n",
       "      <td>Total IMSS anual</td>\n",
       "      <td>$744,833.75</td>\n",
       "    </tr>\n",
       "    <tr>\n",
       "      <th>5</th>\n",
       "      <td>Total INFONAVIT anual</td>\n",
       "      <td>$143,237.26</td>\n",
       "    </tr>\n",
       "    <tr>\n",
       "      <th>Total</th>\n",
       "      <td>Total</td>\n",
       "      <td>$3,755,271.01</td>\n",
       "    </tr>\n",
       "  </tbody>\n",
       "</table>\n",
       "</div>"
      ],
      "text/plain": [
       "                           Concepto Monto (MNX/año)\n",
       "0              Total salarial anual   $2,688,000.00\n",
       "1            Total vacaciones anual      $44,800.00\n",
       "2             Total aguinaldo anual     $112,000.00\n",
       "3      Total prima vacacional anual      $22,400.00\n",
       "4                  Total IMSS anual     $744,833.75\n",
       "5             Total INFONAVIT anual     $143,237.26\n",
       "Total                         Total   $3,755,271.01"
      ]
     },
     "execution_count": 1002,
     "metadata": {},
     "output_type": "execute_result"
    }
   ],
   "source": [
    "totals = {\n",
    "    \"Concepto\": [\"Total salarial anual\", \"Total vacaciones anual\", \"Total aguinaldo anual\", \n",
    "                 \"Total prima vacacional anual\", \"Total IMSS anual\", \"Total INFONAVIT anual\"],\n",
    "    \"Monto (MNX/año)\": [total_anual, total_vacaciones_anual, total_aguinaldo_anual, \n",
    "                    total_prima_vacacional_anual, total_IMSS_anual, total_INFONAVIT_anual]\n",
    "}\n",
    "final = pd.DataFrame(totals)\n",
    "\n",
    "final.loc[\"Total\"]= final[[\"Monto (MNX/año)\"]].replace('[\\$,]', '', regex=True).astype(float).sum()\n",
    "sueldos_total = final.iloc[-1][\"Monto (MNX/año)\"]\n",
    "OL_total = final.iloc[-1][\"Monto (MNX/año)\"]\n",
    "final.loc[\"Total\", \"Concepto\"] = \"Total\"\n",
    "final[\"Monto (MNX/año)\"] = final[\"Monto (MNX/año)\"].apply(lambda x: f\"${x:,.2f}\")\n",
    "\n",
    "final"
   ]
  },
  {
   "cell_type": "markdown",
   "id": "8ef75ee3",
   "metadata": {},
   "source": [
    "<h3>Taxes</h3>"
   ]
  },
  {
   "cell_type": "markdown",
   "id": "eb21cce5",
   "metadata": {},
   "source": [
    " Las personas físicas y Morales están obligados al pago de **impuestos sobre la renta**. De acuerdo con el artículo 9 ley las personas morales deben de aplicar la tasa del 30%\n"
   ]
  },
  {
   "cell_type": "code",
   "execution_count": null,
   "id": "2e4783b0",
   "metadata": {},
   "outputs": [],
   "source": []
  },
  {
   "cell_type": "markdown",
   "id": "f3a6facf",
   "metadata": {},
   "source": [
    "**El Impuesto Sobre Nómina (ISN)** es un impuesto estatal que deben pagar las empresas por los pagos que hacen a sus trabajadores. Se calcula como un porcentaje del total de los pagos realizados por concepto de sueldos, salarios y otras prestaciones laborales. \n",
    "**Para el caso específico del estado de Baja California se considera una tarifa del 1.8%**"
   ]
  },
  {
   "cell_type": "code",
   "execution_count": 1003,
   "id": "8acb727a",
   "metadata": {},
   "outputs": [
    {
     "data": {
      "text/html": [
       "<div>\n",
       "<style scoped>\n",
       "    .dataframe tbody tr th:only-of-type {\n",
       "        vertical-align: middle;\n",
       "    }\n",
       "\n",
       "    .dataframe tbody tr th {\n",
       "        vertical-align: top;\n",
       "    }\n",
       "\n",
       "    .dataframe thead th {\n",
       "        text-align: right;\n",
       "    }\n",
       "</style>\n",
       "<table border=\"1\" class=\"dataframe\">\n",
       "  <thead>\n",
       "    <tr style=\"text-align: right;\">\n",
       "      <th></th>\n",
       "      <th>Salario total (MNX/año)</th>\n",
       "      <th>Vacaciones (MNX/año)</th>\n",
       "      <th>Prima Vacacional (MNX/año)</th>\n",
       "      <th>Aguinaldo (MNX/año)</th>\n",
       "      <th>ISN (MXN/año)</th>\n",
       "    </tr>\n",
       "  </thead>\n",
       "  <tbody>\n",
       "    <tr>\n",
       "      <th>0</th>\n",
       "      <td>$720,000.00</td>\n",
       "      <td>$12,000.00</td>\n",
       "      <td>$6,000.00</td>\n",
       "      <td>$30,000.00</td>\n",
       "      <td>$13,824.00</td>\n",
       "    </tr>\n",
       "    <tr>\n",
       "      <th>1</th>\n",
       "      <td>$432,000.00</td>\n",
       "      <td>$7,200.00</td>\n",
       "      <td>$3,600.00</td>\n",
       "      <td>$18,000.00</td>\n",
       "      <td>$8,294.40</td>\n",
       "    </tr>\n",
       "    <tr>\n",
       "      <th>2</th>\n",
       "      <td>$264,000.00</td>\n",
       "      <td>$4,400.00</td>\n",
       "      <td>$2,200.00</td>\n",
       "      <td>$11,000.00</td>\n",
       "      <td>$5,068.80</td>\n",
       "    </tr>\n",
       "    <tr>\n",
       "      <th>3</th>\n",
       "      <td>$300,000.00</td>\n",
       "      <td>$5,000.00</td>\n",
       "      <td>$2,500.00</td>\n",
       "      <td>$12,500.00</td>\n",
       "      <td>$5,760.00</td>\n",
       "    </tr>\n",
       "    <tr>\n",
       "      <th>4</th>\n",
       "      <td>$240,000.00</td>\n",
       "      <td>$4,000.00</td>\n",
       "      <td>$2,000.00</td>\n",
       "      <td>$10,000.00</td>\n",
       "      <td>$4,608.00</td>\n",
       "    </tr>\n",
       "    <tr>\n",
       "      <th>5</th>\n",
       "      <td>$240,000.00</td>\n",
       "      <td>$4,000.00</td>\n",
       "      <td>$2,000.00</td>\n",
       "      <td>$10,000.00</td>\n",
       "      <td>$4,608.00</td>\n",
       "    </tr>\n",
       "    <tr>\n",
       "      <th>6</th>\n",
       "      <td>$300,000.00</td>\n",
       "      <td>$5,000.00</td>\n",
       "      <td>$2,500.00</td>\n",
       "      <td>$12,500.00</td>\n",
       "      <td>$5,760.00</td>\n",
       "    </tr>\n",
       "    <tr>\n",
       "      <th>7</th>\n",
       "      <td>$192,000.00</td>\n",
       "      <td>$3,200.00</td>\n",
       "      <td>$1,600.00</td>\n",
       "      <td>$8,000.00</td>\n",
       "      <td>$3,686.40</td>\n",
       "    </tr>\n",
       "    <tr>\n",
       "      <th>Total</th>\n",
       "      <td>$2,688,000.00</td>\n",
       "      <td>$44,800.00</td>\n",
       "      <td>$22,400.00</td>\n",
       "      <td>$112,000.00</td>\n",
       "      <td>$51,609.60</td>\n",
       "    </tr>\n",
       "  </tbody>\n",
       "</table>\n",
       "</div>"
      ],
      "text/plain": [
       "      Salario total (MNX/año) Vacaciones (MNX/año) Prima Vacacional (MNX/año)  \\\n",
       "0                 $720,000.00           $12,000.00                  $6,000.00   \n",
       "1                 $432,000.00            $7,200.00                  $3,600.00   \n",
       "2                 $264,000.00            $4,400.00                  $2,200.00   \n",
       "3                 $300,000.00            $5,000.00                  $2,500.00   \n",
       "4                 $240,000.00            $4,000.00                  $2,000.00   \n",
       "5                 $240,000.00            $4,000.00                  $2,000.00   \n",
       "6                 $300,000.00            $5,000.00                  $2,500.00   \n",
       "7                 $192,000.00            $3,200.00                  $1,600.00   \n",
       "Total           $2,688,000.00           $44,800.00                 $22,400.00   \n",
       "\n",
       "      Aguinaldo (MNX/año) ISN (MXN/año)  \n",
       "0              $30,000.00    $13,824.00  \n",
       "1              $18,000.00     $8,294.40  \n",
       "2              $11,000.00     $5,068.80  \n",
       "3              $12,500.00     $5,760.00  \n",
       "4              $10,000.00     $4,608.00  \n",
       "5              $10,000.00     $4,608.00  \n",
       "6              $12,500.00     $5,760.00  \n",
       "7               $8,000.00     $3,686.40  \n",
       "Total         $112,000.00    $51,609.60  "
      ]
     },
     "execution_count": 1003,
     "metadata": {},
     "output_type": "execute_result"
    }
   ],
   "source": [
    "#cálculo del impuesto sobre la Nómina\n",
    "recursos_humano[[\"Salario total (MNX/año)\",\"Vacaciones (MNX/año)\",\"Prima Vacacional (MNX/año)\" ,\"Aguinaldo (MNX/año)\",\"ISN (MXN/año)\"]]\n"
   ]
  },
  {
   "cell_type": "markdown",
   "id": "934d265b",
   "metadata": {},
   "source": [
    "<h2>Variable cost</h2>"
   ]
  },
  {
   "cell_type": "markdown",
   "id": "6680cc9d",
   "metadata": {},
   "source": [
    "<p>Variable costs consider:</p>\n",
    "<ol>\n",
    "    <li>Miscellaneous operating materials:\n",
    "        <ol>\n",
    "            <li>Safety clothing: hard hats, safety glasses etc.</li>\n",
    "            <li>Office articles</li>\n",
    "        \n",
    "</ol>"
   ]
  },
  {
   "cell_type": "code",
   "execution_count": 1004,
   "id": "1282b95e",
   "metadata": {},
   "outputs": [
    {
     "data": {
      "text/html": [
       "<div>\n",
       "<style scoped>\n",
       "    .dataframe tbody tr th:only-of-type {\n",
       "        vertical-align: middle;\n",
       "    }\n",
       "\n",
       "    .dataframe tbody tr th {\n",
       "        vertical-align: top;\n",
       "    }\n",
       "\n",
       "    .dataframe thead th {\n",
       "        text-align: right;\n",
       "    }\n",
       "</style>\n",
       "<table border=\"1\" class=\"dataframe\">\n",
       "  <thead>\n",
       "    <tr style=\"text-align: right;\">\n",
       "      <th></th>\n",
       "      <th>Concepto</th>\n",
       "      <th>Descripción</th>\n",
       "      <th>Costo (MNX)</th>\n",
       "    </tr>\n",
       "  </thead>\n",
       "  <tbody>\n",
       "    <tr>\n",
       "      <th>0</th>\n",
       "      <td>Artículos de oficinas</td>\n",
       "      <td>Hojas, carpetas, bolígrafos, etc.</td>\n",
       "      <td>10000.0</td>\n",
       "    </tr>\n",
       "    <tr>\n",
       "      <th>1</th>\n",
       "      <td>Material de seguridad</td>\n",
       "      <td>Botas de seguridad, casco, googles de segurida...</td>\n",
       "      <td>50000.0</td>\n",
       "    </tr>\n",
       "    <tr>\n",
       "      <th>Total</th>\n",
       "      <td>Total</td>\n",
       "      <td></td>\n",
       "      <td>$60,000.00</td>\n",
       "    </tr>\n",
       "  </tbody>\n",
       "</table>\n",
       "</div>"
      ],
      "text/plain": [
       "                    Concepto  \\\n",
       "0      Artículos de oficinas   \n",
       "1      Material de seguridad   \n",
       "Total                  Total   \n",
       "\n",
       "                                             Descripción Costo (MNX)  \n",
       "0                      Hojas, carpetas, bolígrafos, etc.     10000.0  \n",
       "1      Botas de seguridad, casco, googles de segurida...     50000.0  \n",
       "Total                                                     $60,000.00  "
      ]
     },
     "execution_count": 1004,
     "metadata": {},
     "output_type": "execute_result"
    }
   ],
   "source": [
    "import pandas as pd\n",
    "\n",
    "data = {\n",
    "    \"Concepto\": [\"Artículos de oficinas\", \"Material de seguridad\"],\n",
    "    \"Descripción\": [\"Hojas, carpetas, bolígrafos, etc.\", \n",
    "                    \"Botas de seguridad, casco, googles de seguridad, guantes y otros EPP\"],\n",
    "    \"Costo (MNX)\": [\"$10,000.00\", \"$50,000.00\"]\n",
    "}\n",
    "\n",
    "# Create the DataFrame\n",
    "table = pd.DataFrame(data)\n",
    "\n",
    "# Add a total row\n",
    "table['Costo (MNX)'] = table['Costo (MNX)'].replace('[\\$,]', '', regex=True).astype(float)\n",
    "table.loc[\"Total\"] = [\"Total\", \"\", f\"${table['Costo (MNX)'].sum():,.2f}\"]\n",
    "\n",
    "# Display the table\n",
    "cv_total = table.iloc[-1][\"Costo (MNX)\"].replace('$', '').replace(',', '')\n",
    "cv_total = float(cv_total)\n",
    "cv_total\n",
    "table"
   ]
  },
  {
   "cell_type": "markdown",
   "id": "7cbb8ded",
   "metadata": {},
   "source": [
    "<h1>Punto de equilibrio</h1>"
   ]
  },
  {
   "cell_type": "code",
   "execution_count": 1005,
   "id": "2773b4b0",
   "metadata": {},
   "outputs": [
    {
     "name": "stdout",
     "output_type": "stream",
     "text": [
      "costos fijos totales: $373,964,730.08 MNX al año\n"
     ]
    }
   ],
   "source": [
    "Cfijos_totales=OL_total+tax_total+Power_total+Main_total.maintenance_cost #suma de todos los costos fijos\n",
    "Cfijos_totales #total de costos fijos al año \n",
    "print(\"costos fijos totales: ${:,.2f}\".format(Cfijos_totales), \"MNX al año\")\n"
   ]
  },
  {
   "cell_type": "code",
   "execution_count": 1006,
   "id": "e2b1a276",
   "metadata": {},
   "outputs": [
    {
     "name": "stdout",
     "output_type": "stream",
     "text": [
      "costos variables unitarios: $41.10 MNX al año\n"
     ]
    }
   ],
   "source": [
    "n_unidades= 4*365 #ton por año\n",
    "Cvariable=cv_total/n_unidades #costo variable por tonelada\n",
    "print(\"costos variables unitarios: ${:,.2f}\".format(Cvariable), \"MNX al año\")\n",
    "\n"
   ]
  },
  {
   "cell_type": "code",
   "execution_count": 1014,
   "id": "a7c36919",
   "metadata": {},
   "outputs": [
    {
     "name": "stdout",
     "output_type": "stream",
     "text": [
      "El punto de equilibrio es: 8.78 toneladas al día\n"
     ]
    }
   ],
   "source": [
    "#precio de venta unitario.\n",
    "# https://www.elfinanciero.com.mx/empresas/2021/05/12/conforme-suba-el-costo-del-gas-natural-el-hidrogeno-verde-entrara-en-precios-competitivos-rosa-gonzalez-investigadora-del-ipn/\n",
    "\n",
    "PVU= 6 #5 usd por kg\n",
    "PVU = PVU * 1000  # Convertir de USD por kg a USD por tonelada\n",
    "PVU=PVU*19.45 #conversion de USD a MNX\n",
    "\n",
    "#calculo  del punto de equilibrio \n",
    "PE= (Cfijos_totales/(PVU-Cvariable)) #punto de equilibrio en toneladas\n",
    "PE=PE/365\n",
    "print(\"El punto de equilibrio es: {:.2f}\".format(PE), \"toneladas al día\") \n"
   ]
  },
  {
   "cell_type": "code",
   "execution_count": 1008,
   "id": "fee5bf44",
   "metadata": {},
   "outputs": [
    {
     "name": "stdout",
     "output_type": "stream",
     "text": [
      "El precio de venta unitario es: $13.14 MNX por tonelada\n"
     ]
    }
   ],
   "source": [
    "def find_optimal_PVU(target_PE, Cfijos_totales, Cvariable):\n",
    "    PVU = 3.8  # Start with a reasonable initial guess in USD/kg\n",
    "    step = 0.01  # Increment step for PVU in USD/kg\n",
    "    while True:\n",
    "        PVU_MNX = PVU * 1000 * 19.45  # Convert USD/kg to MNX/ton\n",
    "        PE = Cfijos_totales / (PVU_MNX - Cvariable) / 365  # Calculate PE in tons/day\n",
    "        if abs(PE - target_PE) < 0.01:  # Check if PE is close to the target\n",
    "            return PVU\n",
    "        PVU += step  # Increment PVU\n",
    "D=find_optimal_PVU(4,Cfijos_totales,Cvariable)\n",
    "print(\"El precio de venta unitario es: ${:,.2f}\".format(D), \"MNX por tonelada\")"
   ]
  },
  {
   "cell_type": "code",
   "execution_count": 1009,
   "id": "9e5c99cf",
   "metadata": {},
   "outputs": [
    {
     "data": {
      "image/png": "[encoded data removed]",
      "text/plain": [
       "<Figure size 1000x600 with 1 Axes>"
      ]
     },
     "metadata": {},
     "output_type": "display_data"
    }
   ],
   "source": [
    "import numpy as np\n",
    "import matplotlib.pyplot as plt\n",
    "\n",
    "# Generate a list of 10 elements between 3.8 and 6.5\n",
    "PVU_list = np.linspace(3.8, 6.5, 10)\n",
    "\n",
    "# Function to calculate equilibrium point (PE)\n",
    "def calculate_PE(PVU_list, Cfijos_totales, Cvariable):\n",
    "    PE_list = []\n",
    "    for PVU in PVU_list:\n",
    "        PVU_MNX = PVU * 1000 * 19.45  # Convert USD/kg to MNX/ton\n",
    "        PE = Cfijos_totales / (PVU_MNX - Cvariable)\n",
    "        PE_list.append(PE / 365)  # Convert to tons per day\n",
    "    return PE_list\n",
    "\n",
    "# Calculate PE for the list of PVU\n",
    "PE_list = calculate_PE(PVU_list, Cfijos_totales, Cvariable)\n",
    "\n",
    "\n",
    "plt.figure(figsize=(10, 6))\n",
    "plt.plot(PVU_list, PE_list, marker='o', label=\"Punto de equilibrio (tons/día)\")\n",
    "plt.title(\"Efectos del precio en el punto de equilibrio\")\n",
    "plt.xlabel(\"Precio de venta unitario (USD/kg)\")\n",
    "plt.ylabel(\"Punto de equilibrio (tons/day)\")\n",
    "plt.grid()\n",
    "\n",
    "\n",
    "plt.yticks(np.arange(min(PE_list) - 1, max(PE_list) + 2, 1))\n",
    "\n",
    "plt.legend()\n",
    "plt.show()"
   ]
  },
  {
   "cell_type": "code",
   "execution_count": 1010,
   "id": "285a980c",
   "metadata": {},
   "outputs": [
    {
     "data": {
      "text/plain": [
       "<matplotlib.legend.Legend at 0x18513781510>"
      ]
     },
     "execution_count": 1010,
     "metadata": {},
     "output_type": "execute_result"
    },
    {
     "data": {
      "image/png": "[encoded data removed]",
      "text/plain": [
       "<Figure size 640x480 with 1 Axes>"
      ]
     },
     "metadata": {},
     "output_type": "display_data"
    }
   ],
   "source": [
    "# Generate a list of n_unidades values from 3 to 20, multiplied by 365\n",
    "n_unidades_list = [i * 365 for i in range(3, 21)]\n",
    "\n",
    "# Fixed price in USD\n",
    "PVU = 6.5  # USD/kg\n",
    "PVU_MNX = PVU * 1000 * 19.45  # Convert USD/kg to MNX/ton\n",
    "\n",
    "# Calculate Cvariable and PE for each n_unidades\n",
    "Cvariable_list = []\n",
    "PE_list = []\n",
    "\n",
    "for n in n_unidades_list:\n",
    "    Cvariable = cv_total / n  # Calculate variable cost per ton\n",
    "    PE = Cfijos_totales / (PVU_MNX - Cvariable)  # Calculate equilibrium point in tons/year\n",
    "    Cvariable_list.append(Cvariable)\n",
    "    PE_list.append(PE / 365)  # Convert to tons/day\n",
    "\n",
    "# Plot the results\n",
    "# Plot PE\n",
    "plt.plot(n_unidades_list, PE_list, marker='o', color='orange', label=\"Punto de equilibrio (tons/day)\")\n",
    "plt.title(\"Punto de equilibrio vs n_unidades\")\n",
    "plt.xlabel(\"H2 producido (tons/year)\")\n",
    "plt.ylabel(\"Punto de equilibrio (tons/day)\")\n",
    "plt.grid()\n",
    "plt.legend()"
   ]
  },
  {
   "cell_type": "markdown",
   "id": "e5d7294c",
   "metadata": {},
   "source": [
    "<h1>flujo de efectivo</h1>"
   ]
  },
  {
   "cell_type": "code",
   "execution_count": 1011,
   "id": "909c8a3a",
   "metadata": {},
   "outputs": [
    {
     "name": "stdout",
     "output_type": "stream",
     "text": [
      "Ganancia bruta anual: $170,382,000.00 MXN al año\n"
     ]
    }
   ],
   "source": [
    "produccion_diaria=4 #toneladas de H2 por dia\n",
    "produccion_anual=produccion_diaria*365 #toneladas de H2 por año\n",
    "producion_anual_kg=produccion_anual*1000 #kg de H2 por año\n",
    "\n",
    "#####Precio de venta unitario \n",
    "precio_KgH2_USD=6 #USD por kg de H2\n",
    "precio_KgH2_MXN=precio_KgH2_USD*19.45 #MXN por kg de H2\n",
    "\n",
    "#### Ganacias Brutas en el primer año\n",
    "ganancia_bruta=producion_anual_kg*precio_KgH2_MXN #MXN por año\n",
    "print(\"Ganancia bruta anual: ${:,.2f}\".format(ganancia_bruta), \"MXN al año\")"
   ]
  },
  {
   "cell_type": "code",
   "execution_count": 1018,
   "id": "1c9f80c8",
   "metadata": {},
   "outputs": [
    {
     "data": {
      "text/html": [
       "<div>\n",
       "<style scoped>\n",
       "    .dataframe tbody tr th:only-of-type {\n",
       "        vertical-align: middle;\n",
       "    }\n",
       "\n",
       "    .dataframe tbody tr th {\n",
       "        vertical-align: top;\n",
       "    }\n",
       "\n",
       "    .dataframe thead th {\n",
       "        text-align: right;\n",
       "    }\n",
       "</style>\n",
       "<table border=\"1\" class=\"dataframe\">\n",
       "  <thead>\n",
       "    <tr style=\"text-align: right;\">\n",
       "      <th></th>\n",
       "      <th>Concepto</th>\n",
       "      <th>Costo (MNX)</th>\n",
       "    </tr>\n",
       "  </thead>\n",
       "  <tbody>\n",
       "    <tr>\n",
       "      <th>0</th>\n",
       "      <td>Año</td>\n",
       "      <td>0</td>\n",
       "    </tr>\n",
       "    <tr>\n",
       "      <th>1</th>\n",
       "      <td>Equipo</td>\n",
       "      <td>0</td>\n",
       "    </tr>\n",
       "    <tr>\n",
       "      <th>2</th>\n",
       "      <td>Sueldo + aumento 3% anual</td>\n",
       "      <td>0</td>\n",
       "    </tr>\n",
       "    <tr>\n",
       "      <th>3</th>\n",
       "      <td>energía</td>\n",
       "      <td>0</td>\n",
       "    </tr>\n",
       "    <tr>\n",
       "      <th>4</th>\n",
       "      <td>impuesto</td>\n",
       "      <td>0</td>\n",
       "    </tr>\n",
       "  </tbody>\n",
       "</table>\n",
       "</div>"
      ],
      "text/plain": [
       "                    Concepto  Costo (MNX)\n",
       "0                        Año            0\n",
       "1                     Equipo            0\n",
       "2  Sueldo + aumento 3% anual            0\n",
       "3                    energía            0\n",
       "4                   impuesto            0"
      ]
     },
     "execution_count": 1018,
     "metadata": {},
     "output_type": "execute_result"
    }
   ],
   "source": [
    "Año=[0,1,2,3,4,5,6,7,8,9,10]\n",
    "Equipo=[total_equipos,0,0,0,0,0,0,0,0,0,0]\n",
    "\n",
    "data = {\n",
    "    \"Concepto\": [\"Año\", \"Equipo\",\"Sueldo + aumento 3% anual\",\"energía\",\"impuesto\"],\n",
    "    \"Costo (MNX)\": [0,0,0,0,0],\n",
    "}\n",
    "\n",
    "# Create the DataFrame\n",
    "table = pd.DataFrame(data)\n",
    "table"
   ]
  },
  {
   "cell_type": "code",
   "execution_count": null,
   "id": "b75e5067",
   "metadata": {},
   "outputs": [],
   "source": []
  },
  {
   "cell_type": "code",
   "execution_count": null,
   "id": "4a978faf",
   "metadata": {},
   "outputs": [
    {
     "name": "stdout",
     "output_type": "stream",
     "text": [
      "Ganancia neta anual: $-203,642,730.08 MXN al año\n"
     ]
    }
   ],
   "source": [
    "ganancia_neta=ganancia_bruta-Cfijos_totales-cv_total #ganancia neta anual\n",
    "print(\"Ganancia neta anual: ${:,.2f}\".format(ganancia_neta), \"MXN al año\")"
   ]
  },
  {
   "cell_type": "code",
   "execution_count": null,
   "id": "0b485b67",
   "metadata": {},
   "outputs": [],
   "source": []
  },
  {
   "cell_type": "markdown",
   "id": "ff47a66f",
   "metadata": {},
   "source": [
    "<h1>Zona de graficas</h1>"
   ]
  }
 ],
 "metadata": {
  "kernelspec": {
   "display_name": "Python 3",
   "language": "python",
   "name": "python3"
  },
  "language_info": {
   "codemirror_mode": {
    "name": "ipython",
    "version": 3
   },
   "file_extension": ".py",
   "mimetype": "text/x-python",
   "name": "python",
   "nbconvert_exporter": "python",
   "pygments_lexer": "ipython3",
   "version": "3.11.2"
  }
 },
 "nbformat": 4,
 "nbformat_minor": 5
}
