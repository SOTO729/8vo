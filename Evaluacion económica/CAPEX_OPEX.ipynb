{
 "cells": [
  {
   "cell_type": "markdown",
   "id": "c5e6f30c",
   "metadata": {},
   "source": [
    "<h1>RECURSOS HUMANOS</h1>"
   ]
  },
  {
   "cell_type": "code",
   "execution_count": 19,
   "id": "3bb909a1",
   "metadata": {},
   "outputs": [
    {
     "data": {
      "text/html": [
       "<div>\n",
       "<style scoped>\n",
       "    .dataframe tbody tr th:only-of-type {\n",
       "        vertical-align: middle;\n",
       "    }\n",
       "\n",
       "    .dataframe tbody tr th {\n",
       "        vertical-align: top;\n",
       "    }\n",
       "\n",
       "    .dataframe thead th {\n",
       "        text-align: right;\n",
       "    }\n",
       "</style>\n",
       "<table border=\"1\" class=\"dataframe\">\n",
       "  <thead>\n",
       "    <tr style=\"text-align: right;\">\n",
       "      <th></th>\n",
       "      <th>Personal</th>\n",
       "      <th>Cantidad de personal</th>\n",
       "      <th>Salario c/u</th>\n",
       "      <th>Salario total (MNX/mes)</th>\n",
       "      <th>Salario total (MNX/año)</th>\n",
       "    </tr>\n",
       "  </thead>\n",
       "  <tbody>\n",
       "    <tr>\n",
       "      <th>0</th>\n",
       "      <td>Ingeniero de procesos</td>\n",
       "      <td>2.0</td>\n",
       "      <td>$50,000.00</td>\n",
       "      <td>$100,000.00</td>\n",
       "      <td>$1,200,000.00</td>\n",
       "    </tr>\n",
       "    <tr>\n",
       "      <th>1</th>\n",
       "      <td>Operadores de planta</td>\n",
       "      <td>12.0</td>\n",
       "      <td>$20,000.00</td>\n",
       "      <td>$240,000.00</td>\n",
       "      <td>$2,880,000.00</td>\n",
       "    </tr>\n",
       "    <tr>\n",
       "      <th>2</th>\n",
       "      <td>Personal Técnico y de Mantenimiento mecánico</td>\n",
       "      <td>4.0</td>\n",
       "      <td>$15,000.00</td>\n",
       "      <td>$60,000.00</td>\n",
       "      <td>$720,000.00</td>\n",
       "    </tr>\n",
       "    <tr>\n",
       "      <th>3</th>\n",
       "      <td>Personal Técnico eléctrico/instrumentación</td>\n",
       "      <td>4.0</td>\n",
       "      <td>$15,000.00</td>\n",
       "      <td>$60,000.00</td>\n",
       "      <td>$720,000.00</td>\n",
       "    </tr>\n",
       "    <tr>\n",
       "      <th>4</th>\n",
       "      <td>Ingeniero de seguridad de procesos</td>\n",
       "      <td>1.0</td>\n",
       "      <td>$40,000.00</td>\n",
       "      <td>$40,000.00</td>\n",
       "      <td>$480,000.00</td>\n",
       "    </tr>\n",
       "    <tr>\n",
       "      <th>5</th>\n",
       "      <td>Administrador/a general</td>\n",
       "      <td>1.0</td>\n",
       "      <td>$30,000.00</td>\n",
       "      <td>$30,000.00</td>\n",
       "      <td>$360,000.00</td>\n",
       "    </tr>\n",
       "    <tr>\n",
       "      <th>6</th>\n",
       "      <td>Responsable de recursos humanos</td>\n",
       "      <td>2.0</td>\n",
       "      <td>$25,000.00</td>\n",
       "      <td>$50,000.00</td>\n",
       "      <td>$600,000.00</td>\n",
       "    </tr>\n",
       "    <tr>\n",
       "      <th>Total</th>\n",
       "      <td>Total</td>\n",
       "      <td>26.0</td>\n",
       "      <td>$195,000.00</td>\n",
       "      <td>$580,000.00</td>\n",
       "      <td>$6,960,000.00</td>\n",
       "    </tr>\n",
       "  </tbody>\n",
       "</table>\n",
       "</div>"
      ],
      "text/plain": [
       "                                           Personal  Cantidad de personal  \\\n",
       "0                             Ingeniero de procesos                   2.0   \n",
       "1                             Operadores de planta                   12.0   \n",
       "2      Personal Técnico y de Mantenimiento mecánico                   4.0   \n",
       "3        Personal Técnico eléctrico/instrumentación                   4.0   \n",
       "4                Ingeniero de seguridad de procesos                   1.0   \n",
       "5                           Administrador/a general                   1.0   \n",
       "6                  Responsable de recursos humanos                    2.0   \n",
       "Total                                         Total                  26.0   \n",
       "\n",
       "       Salario c/u Salario total (MNX/mes) Salario total (MNX/año)  \n",
       "0       $50,000.00             $100,000.00           $1,200,000.00  \n",
       "1       $20,000.00             $240,000.00           $2,880,000.00  \n",
       "2       $15,000.00              $60,000.00             $720,000.00  \n",
       "3       $15,000.00              $60,000.00             $720,000.00  \n",
       "4       $40,000.00              $40,000.00             $480,000.00  \n",
       "5       $30,000.00              $30,000.00             $360,000.00  \n",
       "6       $25,000.00              $50,000.00             $600,000.00  \n",
       "Total  $195,000.00             $580,000.00           $6,960,000.00  "
      ]
     },
     "execution_count": 19,
     "metadata": {},
     "output_type": "execute_result"
    }
   ],
   "source": [
    "import pandas as pd\n",
    "\n",
    "trabajo = {\n",
    "    \"Personal\": [\"Ingeniero de procesos\", \n",
    "                 \"Operadores de planta \", \n",
    "                 \"Personal Técnico y de Mantenimiento mecánico\",\n",
    "                 \"Personal Técnico eléctrico/instrumentación\",\n",
    "                 \"Ingeniero de seguridad de procesos\",\n",
    "                 \"Administrador/a general\",\n",
    "                 \"Responsable de recursos humanos \"],\n",
    "    \"Cantidad de personal\": [2,12,4,4,1,1,2],\n",
    "    \"Salario c/u\": [50000,20000,15000,15000,40000,30000,25000],\n",
    "}\n",
    "\n",
    "recursos_humano = pd.DataFrame(trabajo)\n",
    "recursos_humano[\"Salario total (MNX/mes)\"] = recursos_humano[\"Cantidad de personal\"] * recursos_humano[\"Salario c/u\"]\n",
    "recursos_humano[\"Salario total (MNX/año)\"] = recursos_humano[\"Salario total (MNX/mes)\"] * 12\n",
    "recursos_humano.loc[\"Total\"] = recursos_humano[[\"Cantidad de personal\", \"Salario c/u\", \"Salario total (MNX/mes)\",\"Salario total (MNX/año)\"]].replace('[\\$,]', '', regex=True).astype(float).sum()\n",
    "recursos_humano.loc[\"Total\", \"Personal\"] = \"Total\"\n",
    "\n",
    "#Formato de la tabla\n",
    "recursos_humano[\"Salario total (MNX/mes)\"] = recursos_humano[\"Salario total (MNX/mes)\"].apply(lambda x: f\"${x:,.2f}\")\n",
    "recursos_humano[\"Salario total (MNX/año)\"] = recursos_humano[\"Salario total (MNX/año)\"].apply(lambda x: f\"${x:,.2f}\")\n",
    "recursos_humano[\"Salario c/u\"] = recursos_humano[\"Salario c/u\"].apply(lambda x: f\"${x:,.2f}\")\n",
    "recursos_humano\n"
   ]
  },
  {
   "cell_type": "markdown",
   "id": "b5ad917e",
   "metadata": {},
   "source": [
    "<h1>Costos fijos</h1>"
   ]
  },
  {
   "cell_type": "code",
   "execution_count": null,
   "id": "0679c378",
   "metadata": {},
   "outputs": [],
   "source": []
  },
  {
   "cell_type": "markdown",
   "id": "810c970e",
   "metadata": {},
   "source": [
    "<h1>costos variables</h1>"
   ]
  },
  {
   "cell_type": "code",
   "execution_count": null,
   "id": "7f970bdd",
   "metadata": {},
   "outputs": [],
   "source": []
  },
  {
   "cell_type": "markdown",
   "id": "f6df52bb",
   "metadata": {},
   "source": [
    "<h1>Inversion total</h>"
   ]
  },
  {
   "cell_type": "code",
   "execution_count": null,
   "id": "80f4c6b8",
   "metadata": {},
   "outputs": [],
   "source": []
  }
 ],
 "metadata": {
  "kernelspec": {
   "display_name": "Python 3",
   "language": "python",
   "name": "python3"
  },
  "language_info": {
   "codemirror_mode": {
    "name": "ipython",
    "version": 3
   },
   "file_extension": ".py",
   "mimetype": "text/x-python",
   "name": "python",
   "nbconvert_exporter": "python",
   "pygments_lexer": "ipython3",
   "version": "3.11.2"
  }
 },
 "nbformat": 4,
 "nbformat_minor": 5
}
