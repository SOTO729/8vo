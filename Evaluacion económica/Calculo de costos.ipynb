{
 "cells": [
  {
   "cell_type": "code",
   "execution_count": 20,
   "id": "4b5d65f1",
   "metadata": {},
   "outputs": [
    {
     "data": {
      "text/plain": [
       "'Esta funcion esta diseñada para calcular el costo de los compresores de diafragma.\\nSe basa en las graficas del libro \"Analysis, Synthesis, and Design of Chemical Processes\\nde Richard Turton \\n\\nPara que el codigo funcione se necesita ingresar una tabla con los siguientes datos:\\n- El número de compresores\\n- La potencia de cada compresor (kW)'"
      ]
     },
     "execution_count": 20,
     "metadata": {},
     "output_type": "execute_result"
    }
   ],
   "source": [
    "\"\"\"Esta funcion esta diseñada para calcular el costo de los compresores de diafragma.\n",
    "Se basa en las graficas del libro \"Analysis, Synthesis, and Design of Chemical Processes\n",
    "de Richard Turton \n",
    "\n",
    "Para que el codigo funcione se necesita ingresar una tabla con los siguientes datos:\n",
    "- El número de compresores\n",
    "- La potencia de cada compresor (kW)\"\"\""
   ]
  },
  {
   "cell_type": "code",
   "execution_count": null,
   "id": "32ab17c2",
   "metadata": {
    "vscode": {
     "languageId": "typescript"
    }
   },
   "outputs": [
    {
     "data": {
      "text/html": [
       "<div>\n",
       "<style scoped>\n",
       "    .dataframe tbody tr th:only-of-type {\n",
       "        vertical-align: middle;\n",
       "    }\n",
       "\n",
       "    .dataframe tbody tr th {\n",
       "        vertical-align: top;\n",
       "    }\n",
       "\n",
       "    .dataframe thead th {\n",
       "        text-align: right;\n",
       "    }\n",
       "</style>\n",
       "<table border=\"1\" class=\"dataframe\">\n",
       "  <thead>\n",
       "    <tr style=\"text-align: right;\">\n",
       "      <th></th>\n",
       "      <th>Compresor</th>\n",
       "      <th>T(K)</th>\n",
       "      <th>P(bar)</th>\n",
       "      <th>Q(kW)</th>\n",
       "      <th>W (kW)</th>\n",
       "      <th>Q+W (kW)</th>\n",
       "    </tr>\n",
       "  </thead>\n",
       "  <tbody>\n",
       "    <tr>\n",
       "      <th>0</th>\n",
       "      <td>No.1</td>\n",
       "      <td>300</td>\n",
       "      <td>78.14</td>\n",
       "      <td>50</td>\n",
       "      <td>605.300</td>\n",
       "      <td>150</td>\n",
       "    </tr>\n",
       "    <tr>\n",
       "      <th>1</th>\n",
       "      <td>No.2</td>\n",
       "      <td>350</td>\n",
       "      <td>125.25</td>\n",
       "      <td>60</td>\n",
       "      <td>327.322</td>\n",
       "      <td>170</td>\n",
       "    </tr>\n",
       "    <tr>\n",
       "      <th>2</th>\n",
       "      <td>No.3</td>\n",
       "      <td>400</td>\n",
       "      <td>172.30</td>\n",
       "      <td>70</td>\n",
       "      <td>206.300</td>\n",
       "      <td>190</td>\n",
       "    </tr>\n",
       "    <tr>\n",
       "      <th>3</th>\n",
       "      <td>Total</td>\n",
       "      <td>289</td>\n",
       "      <td>173.30</td>\n",
       "      <td>50</td>\n",
       "      <td>1173.800</td>\n",
       "      <td>1200</td>\n",
       "    </tr>\n",
       "  </tbody>\n",
       "</table>\n",
       "</div>"
      ],
      "text/plain": [
       "  Compresor  T(K)  P(bar)  Q(kW)    W (kW)  Q+W (kW)\n",
       "0      No.1   300   78.14     50   605.300       150\n",
       "1      No.2   350  125.25     60   327.322       170\n",
       "2      No.3   400  172.30     70   206.300       190\n",
       "3     Total   289  173.30     50  1173.800      1200"
      ]
     },
     "execution_count": 17,
     "metadata": {},
     "output_type": "execute_result"
    }
   ],
   "source": [
    "#Este script es para la prueba del objeto programdo que debe calcular el precio de los compresores \n",
    "\n",
    "import pandas as pd\n",
    "\n",
    "data = {\n",
    "    \"Compresor\": [\"No.1\", \"No.2\", \"No.3\",\"Total\"],\n",
    "    \"T(K)\": [300, 350, 400, 289],\n",
    "    \"P(bar)\": [78.14, 125.25, 172.3,173.3],\n",
    "    \"Q(kW)\": [50, 60, 70,50],\n",
    "    \"W (kW)\": [605.3, 327.322, 206.3,1173.8],\n",
    "    \"Q+W (kW)\": [150, 170, 190,1200]\n",
    "}\n",
    "\n",
    "prueba = pd.DataFrame(data)\n",
    "prueba"
   ]
  },
  {
   "cell_type": "code",
   "execution_count": null,
   "id": "60014b0e",
   "metadata": {},
   "outputs": [
    {
     "data": {
      "text/html": [
       "<div>\n",
       "<style scoped>\n",
       "    .dataframe tbody tr th:only-of-type {\n",
       "        vertical-align: middle;\n",
       "    }\n",
       "\n",
       "    .dataframe tbody tr th {\n",
       "        vertical-align: top;\n",
       "    }\n",
       "\n",
       "    .dataframe thead th {\n",
       "        text-align: right;\n",
       "    }\n",
       "</style>\n",
       "<table border=\"1\" class=\"dataframe\">\n",
       "  <thead>\n",
       "    <tr style=\"text-align: right;\">\n",
       "      <th></th>\n",
       "      <th>Compresor</th>\n",
       "      <th>T(K)</th>\n",
       "      <th>P(bar)</th>\n",
       "      <th>Q(kW)</th>\n",
       "      <th>W (kW)</th>\n",
       "      <th>Q+W (kW)</th>\n",
       "      <th>Price</th>\n",
       "    </tr>\n",
       "  </thead>\n",
       "  <tbody>\n",
       "    <tr>\n",
       "      <th>0</th>\n",
       "      <td>No.1</td>\n",
       "      <td>300</td>\n",
       "      <td>78.14</td>\n",
       "      <td>50</td>\n",
       "      <td>605.300</td>\n",
       "      <td>150</td>\n",
       "      <td>641.492753</td>\n",
       "    </tr>\n",
       "    <tr>\n",
       "      <th>1</th>\n",
       "      <td>No.2</td>\n",
       "      <td>350</td>\n",
       "      <td>125.25</td>\n",
       "      <td>60</td>\n",
       "      <td>327.322</td>\n",
       "      <td>170</td>\n",
       "      <td>713.299870</td>\n",
       "    </tr>\n",
       "    <tr>\n",
       "      <th>2</th>\n",
       "      <td>No.3</td>\n",
       "      <td>400</td>\n",
       "      <td>172.30</td>\n",
       "      <td>70</td>\n",
       "      <td>206.300</td>\n",
       "      <td>190</td>\n",
       "      <td>757.971266</td>\n",
       "    </tr>\n",
       "    <tr>\n",
       "      <th>3</th>\n",
       "      <td>Total</td>\n",
       "      <td>289</td>\n",
       "      <td>173.30</td>\n",
       "      <td>50</td>\n",
       "      <td>1173.800</td>\n",
       "      <td>1200</td>\n",
       "      <td>2112.763889</td>\n",
       "    </tr>\n",
       "  </tbody>\n",
       "</table>\n",
       "</div>"
      ],
      "text/plain": [
       "  Compresor  T(K)  P(bar)  Q(kW)    W (kW)  Q+W (kW)        Price\n",
       "0      No.1   300   78.14     50   605.300       150   641.492753\n",
       "1      No.2   350  125.25     60   327.322       170   713.299870\n",
       "2      No.3   400  172.30     70   206.300       190   757.971266\n",
       "3     Total   289  173.30     50  1173.800      1200  2112.763889"
      ]
     },
     "execution_count": 21,
     "metadata": {},
     "output_type": "execute_result"
    }
   ],
   "source": [
    "class PriceCalculator:\n",
    "    def __init__(self, dataframe):\n",
    "        self.dataframe = dataframe\n",
    "\n",
    "    def calculate_price(self):\n",
    "        prices = []\n",
    "        cepci_2001=397\n",
    "        cepci_2024=798.8\n",
    "        for index, row in self.dataframe.iterrows():\n",
    "            if index < len(self.dataframe) - 1:  # For all rows except the last one\n",
    "                w_value = row[\"W (kW)\"]\n",
    "                price = (7E-12 * w_value**4 - 6E-08 * w_value**3 + 0.0002 * w_value**2 - 0.2777 * w_value + 426)*(cepci_2024/cepci_2001)\n",
    "                prices.append(price)\n",
    "            else:  # For the last row\n",
    "                total_price = sum(prices)\n",
    "                prices.append(total_price)\n",
    "        self.dataframe[\"Price\"] = prices\n",
    "        return self.dataframe\n",
    "\n",
    "#Try to use the class with prueba dataframe\n",
    "calculator = PriceCalculator(prueba)\n",
    "updated_prueba = calculator.calculate_price()\n",
    "updated_prueba"
   ]
  }
 ],
 "metadata": {
  "kernelspec": {
   "display_name": "Python 3",
   "language": "python",
   "name": "python3"
  },
  "language_info": {
   "codemirror_mode": {
    "name": "ipython",
    "version": 3
   },
   "file_extension": ".py",
   "mimetype": "text/x-python",
   "name": "python",
   "nbconvert_exporter": "python",
   "pygments_lexer": "ipython3",
   "version": "3.11.2"
  }
 },
 "nbformat": 4,
 "nbformat_minor": 5
}
