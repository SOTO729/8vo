{
 "cells": [
  {
   "cell_type": "markdown",
   "id": "35eb2efb",
   "metadata": {},
   "source": [
    " <h1>Compresores </h1>"
   ]
  },
  {
   "cell_type": "code",
   "execution_count": 26,
   "id": "4b5d65f1",
   "metadata": {},
   "outputs": [
    {
     "data": {
      "text/plain": [
       "'Esta funcion esta diseñada para calcular el costo de los compresores de diafragma.\\nSe basa en la ecuación con coeficientes K1, K2, K3 de libro \"Analysis, Synthesis, and Design of Chemical Processes\\nde Richard Turton \\n\\nPara que el codigo funcione se necesita ingresar una tabla con los siguientes datos:\\n- El número de compresores\\n- La potencia de cada compresor (kW)\\n-Spares Number\\n- Material del compresor el cual puede ser:\\n    -Carbon Steel\\n    -Stainless Steel\\n    -Nickel Alloy\\nLos coeficientes para el tipo de compresor son los datos para compresor reciprocanntes ya que los compresores de diafragma no tienen coeficientes en el libro mencionado.\\n'"
      ]
     },
     "execution_count": 26,
     "metadata": {},
     "output_type": "execute_result"
    }
   ],
   "source": [
    "\"\"\"Esta funcion esta diseñada para calcular el costo de los compresores de diafragma.\n",
    "Se basa en la ecuación con coeficientes K1, K2, K3 de libro \"Analysis, Synthesis, and Design of Chemical Processes\n",
    "de Richard Turton \n",
    "\n",
    "Para que el codigo funcione se necesita ingresar una tabla con los siguientes datos:\n",
    "- El número de compresores\n",
    "- La potencia de cada compresor (kW)\n",
    "-Spares Number\n",
    "- Material del compresor el cual puede ser:\n",
    "    -Carbon Steel\n",
    "    -Stainless Steel\n",
    "    -Nickel Alloy\n",
    "Los coeficientes para el tipo de compresor son los datos para compresor reciprocanntes ya que los compresores de diafragma no tienen coeficientes en el libro mencionado.\n",
    "\"\"\""
   ]
  },
  {
   "cell_type": "code",
   "execution_count": 27,
   "id": "64e4198f",
   "metadata": {},
   "outputs": [
    {
     "data": {
      "text/html": [
       "<div>\n",
       "<style scoped>\n",
       "    .dataframe tbody tr th:only-of-type {\n",
       "        vertical-align: middle;\n",
       "    }\n",
       "\n",
       "    .dataframe tbody tr th {\n",
       "        vertical-align: top;\n",
       "    }\n",
       "\n",
       "    .dataframe thead th {\n",
       "        text-align: right;\n",
       "    }\n",
       "</style>\n",
       "<table border=\"1\" class=\"dataframe\">\n",
       "  <thead>\n",
       "    <tr style=\"text-align: right;\">\n",
       "      <th></th>\n",
       "      <th>Compressor</th>\n",
       "      <th>T (K)</th>\n",
       "      <th>P (bar)</th>\n",
       "      <th>Cooling H2O (kg/s)</th>\n",
       "      <th>W (kW) Python</th>\n",
       "    </tr>\n",
       "  </thead>\n",
       "  <tbody>\n",
       "    <tr>\n",
       "      <th>0</th>\n",
       "      <td>No. 1</td>\n",
       "      <td>298.15</td>\n",
       "      <td>32</td>\n",
       "      <td>5.704003</td>\n",
       "      <td>249</td>\n",
       "    </tr>\n",
       "    <tr>\n",
       "      <th>1</th>\n",
       "      <td>No. 2</td>\n",
       "      <td>298.15</td>\n",
       "      <td>157</td>\n",
       "      <td>2.639239</td>\n",
       "      <td>77</td>\n",
       "    </tr>\n",
       "    <tr>\n",
       "      <th>2</th>\n",
       "      <td>No. 3</td>\n",
       "      <td>298.15</td>\n",
       "      <td>284</td>\n",
       "      <td>1.725646</td>\n",
       "      <td>49</td>\n",
       "    </tr>\n",
       "    <tr>\n",
       "      <th>3</th>\n",
       "      <td>Total</td>\n",
       "      <td>298.15</td>\n",
       "      <td>472</td>\n",
       "      <td>10.068889</td>\n",
       "      <td>375</td>\n",
       "    </tr>\n",
       "  </tbody>\n",
       "</table>\n",
       "</div>"
      ],
      "text/plain": [
       "  Compressor   T (K)  P (bar)  Cooling H2O (kg/s)  W (kW) Python\n",
       "0      No. 1  298.15       32            5.704003            249\n",
       "1      No. 2  298.15      157            2.639239             77\n",
       "2      No. 3  298.15      284            1.725646             49\n",
       "3      Total  298.15      472           10.068889            375"
      ]
     },
     "execution_count": 27,
     "metadata": {},
     "output_type": "execute_result"
    }
   ],
   "source": [
    "import pandas as pd\n",
    "\n",
    "data = {\n",
    "    \"Compressor\": [\"No. 1\", \"No. 2\", \"No. 3\", \"Total\"],\n",
    "    \"T (K)\": [298.15, 298.15, 298.15, 298.15],\n",
    "    \"P (bar)\": [32,157, 284,472],\n",
    "    \"Cooling H2O (kg/s)\": [5.704003, 2.639239, 1.725646, 10.068889],\n",
    "    \"W (kW) Python\": [249, 77, 49, 375],\n",
    "}\n",
    "\n",
    "prueba = pd.DataFrame(data)\n",
    "prueba"
   ]
  },
  {
   "cell_type": "code",
   "execution_count": 28,
   "id": "9963fd7b",
   "metadata": {},
   "outputs": [],
   "source": [
    "\n",
    "import pandas as pd\n",
    "import math\n",
    "\n",
    "class PriceCalculator:\n",
    "    def __init__(self, dataframe,spares,material):\n",
    "        self.dataframe = dataframe\n",
    "        self.spares = spares\n",
    "        self.material = material\n",
    "        self.calculate_price()\n",
    "\n",
    "    def calculate_price(self):\n",
    "        prices = []\n",
    "        cepci_2001 = 397\n",
    "        cepci_2024 = 798.8\n",
    "        k1=2.2897\n",
    "        k2=1.3604\n",
    "        k3=-0.1027\n",
    "        if self.material == \"Carbon Steel\":\n",
    "            sFBM=3.4\n",
    "        elif self.material == \"Stainless Steel\":\n",
    "            sFBM=7.0\n",
    "        else:\n",
    "            sFBM=13.9 #for Nickel Alloy\n",
    "        FBMCS=3.4 #for Carbon Steel\n",
    "\n",
    "        for index, row in self.dataframe.iterrows():\n",
    "            if index < len(self.dataframe) - 1:  # For all rows except the last one\n",
    "                w_value = row[\"W (kW) Python\"]\n",
    "                A = k1+(k2*math.log10(w_value))+(k3*(math.log10(w_value)**2))\n",
    "                B=(10**A)*(self.spares+1)/cepci_2001*cepci_2024\n",
    "                price=B*sFBM/FBMCS\n",
    "                prices.append(price)\n",
    "            else:  # For the last row\n",
    "                total_price = sum(prices)\n",
    "                prices.append(total_price)\n",
    "        self.dataframe[\"Purchased Equipment Cost (USD)\"] = prices\n",
    "        self.dataframe[\"Purchased Equipment Cost (USD)\"] = self.dataframe[\"Purchased Equipment Cost (USD)\"].apply(lambda x: f\"${x:,.2f}\" if isinstance(x, (int, float)) else x)\n",
    "        self.total_price = prices[-1]  # Total price is the last value in the list\n",
    "        installation_cost = total_price * 2.5\n",
    "        piping_cost = self.total_price * 0.21\n",
    "        electrical_cost = self.total_price * 0.16\n",
    "        instrumentation_cost = self.total_price * 0.08\n",
    "        Final_cost = self.total_price + piping_cost + electrical_cost + instrumentation_cost+installation_cost\n",
    "        cost_mxn= Final_cost * 19.59 \n",
    "        pricce_mxn=self.total_price*19.59\n",
    "\n",
    "\n",
    "        # Create a data frame with the extra costs\n",
    "        extras = {\n",
    "            \"Purchased Equipment Cost (USD)\": [self.total_price],\n",
    "            \"Purchased Equipment Cost (MXN)\": [pricce_mxn],\n",
    "            \"Installation Cost (USD)\": [installation_cost],\n",
    "            \"Piping Cost (USD)\": [piping_cost],\n",
    "            \"Electrical Cost (USD)\": [electrical_cost],\n",
    "            \"Instrumentation Cost (USD)\": [instrumentation_cost],\n",
    "            \"Final Cost (USD)\": [Final_cost],\n",
    "            \"Final Cost (MXN)\": [cost_mxn]\n",
    "            \n",
    "        }\n",
    "        self.extras_df = pd.DataFrame(extras)\n",
    "        # Format the numbers in the extras_df as currency\n",
    "        self.extras_df = self.extras_df.applymap(lambda x: f\"${x:,.2f}\" if isinstance(x, (int, float)) else x)\n",
    "        return self.dataframe, self.extras_df\n",
    "\n",
    "# Use the class with the prueba dataframe\n",
    "SS=\"Stainless Steel\"\n",
    "CS=\"Carbon Steel\"\n",
    "NA=\"Nickel Alloy\"\n",
    "calculator = PriceCalculator(prueba,1,SS)\n"
   ]
  },
  {
   "cell_type": "code",
   "execution_count": 29,
   "id": "69c1ab64",
   "metadata": {},
   "outputs": [
    {
     "data": {
      "text/html": [
       "<div>\n",
       "<style scoped>\n",
       "    .dataframe tbody tr th:only-of-type {\n",
       "        vertical-align: middle;\n",
       "    }\n",
       "\n",
       "    .dataframe tbody tr th {\n",
       "        vertical-align: top;\n",
       "    }\n",
       "\n",
       "    .dataframe thead th {\n",
       "        text-align: right;\n",
       "    }\n",
       "</style>\n",
       "<table border=\"1\" class=\"dataframe\">\n",
       "  <thead>\n",
       "    <tr style=\"text-align: right;\">\n",
       "      <th></th>\n",
       "      <th>Compressor</th>\n",
       "      <th>T (K)</th>\n",
       "      <th>P (bar)</th>\n",
       "      <th>Cooling H2O (kg/s)</th>\n",
       "      <th>W (kW) Python</th>\n",
       "      <th>Purchased Equipment Cost (USD)</th>\n",
       "    </tr>\n",
       "  </thead>\n",
       "  <tbody>\n",
       "    <tr>\n",
       "      <th>0</th>\n",
       "      <td>No. 1</td>\n",
       "      <td>298.15</td>\n",
       "      <td>32</td>\n",
       "      <td>5.704003</td>\n",
       "      <td>249</td>\n",
       "      <td>$755,277.15</td>\n",
       "    </tr>\n",
       "    <tr>\n",
       "      <th>1</th>\n",
       "      <td>No. 2</td>\n",
       "      <td>298.15</td>\n",
       "      <td>157</td>\n",
       "      <td>2.639239</td>\n",
       "      <td>77</td>\n",
       "      <td>$256,380.53</td>\n",
       "    </tr>\n",
       "    <tr>\n",
       "      <th>2</th>\n",
       "      <td>No. 3</td>\n",
       "      <td>298.15</td>\n",
       "      <td>284</td>\n",
       "      <td>1.725646</td>\n",
       "      <td>49</td>\n",
       "      <td>$163,662.76</td>\n",
       "    </tr>\n",
       "    <tr>\n",
       "      <th>3</th>\n",
       "      <td>Total</td>\n",
       "      <td>298.15</td>\n",
       "      <td>472</td>\n",
       "      <td>10.068889</td>\n",
       "      <td>375</td>\n",
       "      <td>$1,175,320.44</td>\n",
       "    </tr>\n",
       "  </tbody>\n",
       "</table>\n",
       "</div>"
      ],
      "text/plain": [
       "  Compressor   T (K)  P (bar)  Cooling H2O (kg/s)  W (kW) Python  \\\n",
       "0      No. 1  298.15       32            5.704003            249   \n",
       "1      No. 2  298.15      157            2.639239             77   \n",
       "2      No. 3  298.15      284            1.725646             49   \n",
       "3      Total  298.15      472           10.068889            375   \n",
       "\n",
       "  Purchased Equipment Cost (USD)  \n",
       "0                    $755,277.15  \n",
       "1                    $256,380.53  \n",
       "2                    $163,662.76  \n",
       "3                  $1,175,320.44  "
      ]
     },
     "execution_count": 29,
     "metadata": {},
     "output_type": "execute_result"
    }
   ],
   "source": [
    "calculator.dataframe\n"
   ]
  },
  {
   "cell_type": "code",
   "execution_count": 30,
   "id": "73c5e4f7",
   "metadata": {},
   "outputs": [
    {
     "data": {
      "text/html": [
       "<div>\n",
       "<style scoped>\n",
       "    .dataframe tbody tr th:only-of-type {\n",
       "        vertical-align: middle;\n",
       "    }\n",
       "\n",
       "    .dataframe tbody tr th {\n",
       "        vertical-align: top;\n",
       "    }\n",
       "\n",
       "    .dataframe thead th {\n",
       "        text-align: right;\n",
       "    }\n",
       "</style>\n",
       "<table border=\"1\" class=\"dataframe\">\n",
       "  <thead>\n",
       "    <tr style=\"text-align: right;\">\n",
       "      <th></th>\n",
       "      <th>Purchased Equipment Cost (USD)</th>\n",
       "      <th>Purchased Equipment Cost (MXN)</th>\n",
       "      <th>Installation Cost (USD)</th>\n",
       "      <th>Piping Cost (USD)</th>\n",
       "      <th>Electrical Cost (USD)</th>\n",
       "      <th>Instrumentation Cost (USD)</th>\n",
       "      <th>Final Cost (USD)</th>\n",
       "      <th>Final Cost (MXN)</th>\n",
       "    </tr>\n",
       "  </thead>\n",
       "  <tbody>\n",
       "    <tr>\n",
       "      <th>0</th>\n",
       "      <td>$1,175,320.44</td>\n",
       "      <td>$23,024,527.44</td>\n",
       "      <td>$2,938,301.10</td>\n",
       "      <td>$246,817.29</td>\n",
       "      <td>$188,051.27</td>\n",
       "      <td>$94,025.64</td>\n",
       "      <td>$4,642,515.74</td>\n",
       "      <td>$90,946,883.37</td>\n",
       "    </tr>\n",
       "  </tbody>\n",
       "</table>\n",
       "</div>"
      ],
      "text/plain": [
       "  Purchased Equipment Cost (USD) Purchased Equipment Cost (MXN)  \\\n",
       "0                  $1,175,320.44                 $23,024,527.44   \n",
       "\n",
       "  Installation Cost (USD) Piping Cost (USD) Electrical Cost (USD)  \\\n",
       "0           $2,938,301.10       $246,817.29           $188,051.27   \n",
       "\n",
       "  Instrumentation Cost (USD) Final Cost (USD) Final Cost (MXN)  \n",
       "0                 $94,025.64    $4,642,515.74   $90,946,883.37  "
      ]
     },
     "execution_count": 30,
     "metadata": {},
     "output_type": "execute_result"
    }
   ],
   "source": [
    "calculator.extras_df"
   ]
  },
  {
   "cell_type": "markdown",
   "id": "06fe9f4d",
   "metadata": {},
   "source": [
    " <h1>Tanques </h1>"
   ]
  },
  {
   "attachments": {
    "image.png": {
     "image/png": "[encoded data removed]"
    }
   },
   "cell_type": "markdown",
   "id": "2ee1fd4f",
   "metadata": {},
   "source": [
    "![image.png](attachment:image.png)"
   ]
  },
  {
   "cell_type": "code",
   "execution_count": 31,
   "id": "f08b09f9",
   "metadata": {},
   "outputs": [],
   "source": [
    "class TankCostCalculator:\n",
    "    price_per_lb_gas = {\n",
    "        \"Type I\": 5.5,\n",
    "        \"Type II\": 9.0,\n",
    "        \"Type III & IV\": 15.5\n",
    "    }\n",
    "    def __init__(self, tank_type, gas_mass_kg):\n",
    "        self.tank_type = tank_type\n",
    "        self.gas_mass_kg = gas_mass_kg\n",
    "        self.gas_mass_lb = gas_mass_kg * 2.20462  # in lb\n",
    "        self.price_per_lb = self.price_per_lb_gas[tank_type]\n",
    "        self.extras_df = self.calculate_cost()  # Call calculate_cost during initialization\n",
    "\n",
    "    def calculate_cost(self):\n",
    "        CEPCI_2014 = 576.1\n",
    "        CEPCI_2024 = 798.8\n",
    "        self.price= (self.gas_mass_lb * self.price_per_lb)* (CEPCI_2024 / CEPCI_2014)\n",
    "        self.total_material_cost= self.price * 1.2  \n",
    "        self.construction= self.price * 0.08\n",
    "        installation_cost = self.price * 2.5\n",
    "        instrumentation_cost = self.price * 0.08\n",
    "        self.Final_cost = self.price + self.total_material_cost + self.construction + installation_cost + instrumentation_cost\n",
    "        cost_mxn= self.Final_cost * 19.61  \n",
    "\n",
    "        # Create a data frame with the extra costs\n",
    "        extras = {\n",
    "            \"Total Price (FOB)\": [self.price],\n",
    "            \"Installation Cost (USD)\": [installation_cost],\n",
    "            \"Total Material Cost (USD)\": [self.total_material_cost],\n",
    "            \"Construction Cost (USD)\": [self.construction],\n",
    "            \"Instrumentation Cost (USD)\": [instrumentation_cost],\n",
    "            \"Final Cost (USD)\": [self.Final_cost],\n",
    "            \"Final Cost (MXN)\": [cost_mxn]\n",
    "        }\n",
    "        self.extras_df = pd.DataFrame(extras)\n",
    "        # Format the numbers in the extras_df as currency\n",
    "        self.extras_df = self.extras_df.applymap(lambda x: f\"${x:,.2f}\" if isinstance(x, (int, float)) else x)       \n",
    "        return  self.extras_df\n",
    "\n",
    "\n",
    "T1=\"Type I\"\n",
    "T2=\"Type II\"\n",
    "T3=\"Type III & IV\"\n"
   ]
  },
  {
   "cell_type": "markdown",
   "id": "6f8438ad",
   "metadata": {},
   "source": [
    "Tanque tipo 1"
   ]
  },
  {
   "cell_type": "code",
   "execution_count": 36,
   "id": "6f2441c6",
   "metadata": {},
   "outputs": [
    {
     "data": {
      "text/html": [
       "<div>\n",
       "<style scoped>\n",
       "    .dataframe tbody tr th:only-of-type {\n",
       "        vertical-align: middle;\n",
       "    }\n",
       "\n",
       "    .dataframe tbody tr th {\n",
       "        vertical-align: top;\n",
       "    }\n",
       "\n",
       "    .dataframe thead th {\n",
       "        text-align: right;\n",
       "    }\n",
       "</style>\n",
       "<table border=\"1\" class=\"dataframe\">\n",
       "  <thead>\n",
       "    <tr style=\"text-align: right;\">\n",
       "      <th></th>\n",
       "      <th>Total Price (FOB)</th>\n",
       "      <th>Installation Cost (USD)</th>\n",
       "      <th>Total Material Cost (USD)</th>\n",
       "      <th>Construction Cost (USD)</th>\n",
       "      <th>Instrumentation Cost (USD)</th>\n",
       "      <th>Final Cost (USD)</th>\n",
       "      <th>Final Cost (MXN)</th>\n",
       "    </tr>\n",
       "  </thead>\n",
       "  <tbody>\n",
       "    <tr>\n",
       "      <th>0</th>\n",
       "      <td>$110.05</td>\n",
       "      <td>$275.12</td>\n",
       "      <td>$132.06</td>\n",
       "      <td>$8.80</td>\n",
       "      <td>$8.80</td>\n",
       "      <td>$534.83</td>\n",
       "      <td>$10,487.94</td>\n",
       "    </tr>\n",
       "  </tbody>\n",
       "</table>\n",
       "</div>"
      ],
      "text/plain": [
       "  Total Price (FOB) Installation Cost (USD) Total Material Cost (USD)  \\\n",
       "0           $110.05                 $275.12                   $132.06   \n",
       "\n",
       "  Construction Cost (USD) Instrumentation Cost (USD) Final Cost (USD)  \\\n",
       "0                   $8.80                      $8.80          $534.83   \n",
       "\n",
       "  Final Cost (MXN)  \n",
       "0       $10,487.94  "
      ]
     },
     "execution_count": 36,
     "metadata": {},
     "output_type": "execute_result"
    }
   ],
   "source": [
    "tank_type = T2\n",
    "gas_mass = 4   # in ton\n",
    "calculator1 = TankCostCalculator(tank_type, gas_mass)\n",
    "calculator1.extras_df\n"
   ]
  },
  {
   "cell_type": "markdown",
   "id": "dc048125",
   "metadata": {},
   "source": [
    "Tanque tipo 2"
   ]
  },
  {
   "cell_type": "code",
   "execution_count": 33,
   "id": "b33f3513",
   "metadata": {},
   "outputs": [
    {
     "data": {
      "text/html": [
       "<div>\n",
       "<style scoped>\n",
       "    .dataframe tbody tr th:only-of-type {\n",
       "        vertical-align: middle;\n",
       "    }\n",
       "\n",
       "    .dataframe tbody tr th {\n",
       "        vertical-align: top;\n",
       "    }\n",
       "\n",
       "    .dataframe thead th {\n",
       "        text-align: right;\n",
       "    }\n",
       "</style>\n",
       "<table border=\"1\" class=\"dataframe\">\n",
       "  <thead>\n",
       "    <tr style=\"text-align: right;\">\n",
       "      <th></th>\n",
       "      <th>Total Price (FOB)</th>\n",
       "      <th>Installation Cost (USD)</th>\n",
       "      <th>Total Material Cost (USD)</th>\n",
       "      <th>Construction Cost (USD)</th>\n",
       "      <th>Instrumentation Cost (USD)</th>\n",
       "      <th>Final Cost (USD)</th>\n",
       "      <th>Final Cost (MXN)</th>\n",
       "    </tr>\n",
       "  </thead>\n",
       "  <tbody>\n",
       "    <tr>\n",
       "      <th>0</th>\n",
       "      <td>$27,511.64</td>\n",
       "      <td>$68,779.09</td>\n",
       "      <td>$33,013.96</td>\n",
       "      <td>$2,200.93</td>\n",
       "      <td>$2,200.93</td>\n",
       "      <td>$133,706.56</td>\n",
       "      <td>$2,621,985.56</td>\n",
       "    </tr>\n",
       "  </tbody>\n",
       "</table>\n",
       "</div>"
      ],
      "text/plain": [
       "  Total Price (FOB) Installation Cost (USD) Total Material Cost (USD)  \\\n",
       "0        $27,511.64              $68,779.09                $33,013.96   \n",
       "\n",
       "  Construction Cost (USD) Instrumentation Cost (USD) Final Cost (USD)  \\\n",
       "0               $2,200.93                  $2,200.93      $133,706.56   \n",
       "\n",
       "  Final Cost (MXN)  \n",
       "0    $2,621,985.56  "
      ]
     },
     "execution_count": 33,
     "metadata": {},
     "output_type": "execute_result"
    }
   ],
   "source": [
    "tank_type = T2\n",
    "gas_mass = 1000   # in ton\n",
    "calculator2 = TankCostCalculator(tank_type, gas_mass)\n",
    "calculator2.extras_df\n"
   ]
  },
  {
   "cell_type": "markdown",
   "id": "58181b9e",
   "metadata": {},
   "source": [
    "Tanque tipo 3"
   ]
  },
  {
   "cell_type": "code",
   "execution_count": 34,
   "id": "01984f7e",
   "metadata": {},
   "outputs": [
    {
     "data": {
      "text/html": [
       "<div>\n",
       "<style scoped>\n",
       "    .dataframe tbody tr th:only-of-type {\n",
       "        vertical-align: middle;\n",
       "    }\n",
       "\n",
       "    .dataframe tbody tr th {\n",
       "        vertical-align: top;\n",
       "    }\n",
       "\n",
       "    .dataframe thead th {\n",
       "        text-align: right;\n",
       "    }\n",
       "</style>\n",
       "<table border=\"1\" class=\"dataframe\">\n",
       "  <thead>\n",
       "    <tr style=\"text-align: right;\">\n",
       "      <th></th>\n",
       "      <th>Total Price (FOB)</th>\n",
       "      <th>Installation Cost (USD)</th>\n",
       "      <th>Total Material Cost (USD)</th>\n",
       "      <th>Construction Cost (USD)</th>\n",
       "      <th>Instrumentation Cost (USD)</th>\n",
       "      <th>Final Cost (USD)</th>\n",
       "      <th>Final Cost (MXN)</th>\n",
       "    </tr>\n",
       "  </thead>\n",
       "  <tbody>\n",
       "    <tr>\n",
       "      <th>0</th>\n",
       "      <td>$47,381.15</td>\n",
       "      <td>$118,452.88</td>\n",
       "      <td>$56,857.38</td>\n",
       "      <td>$3,790.49</td>\n",
       "      <td>$3,790.49</td>\n",
       "      <td>$230,272.40</td>\n",
       "      <td>$4,515,641.81</td>\n",
       "    </tr>\n",
       "  </tbody>\n",
       "</table>\n",
       "</div>"
      ],
      "text/plain": [
       "  Total Price (FOB) Installation Cost (USD) Total Material Cost (USD)  \\\n",
       "0        $47,381.15             $118,452.88                $56,857.38   \n",
       "\n",
       "  Construction Cost (USD) Instrumentation Cost (USD) Final Cost (USD)  \\\n",
       "0               $3,790.49                  $3,790.49      $230,272.40   \n",
       "\n",
       "  Final Cost (MXN)  \n",
       "0    $4,515,641.81  "
      ]
     },
     "execution_count": 34,
     "metadata": {},
     "output_type": "execute_result"
    }
   ],
   "source": [
    "tank_type = T3\n",
    "gas_mass = 1000   # in ton\n",
    "calculator3 = TankCostCalculator(tank_type, gas_mass)\n",
    "calculator3.extras_df\n"
   ]
  },
  {
   "cell_type": "markdown",
   "id": "8a0a2aba",
   "metadata": {},
   "source": [
    "Tanque tipo 4"
   ]
  },
  {
   "cell_type": "code",
   "execution_count": 35,
   "id": "62ab3855",
   "metadata": {},
   "outputs": [
    {
     "data": {
      "text/plain": [
       "74960.04041317826"
      ]
     },
     "execution_count": 35,
     "metadata": {},
     "output_type": "execute_result"
    }
   ],
   "source": [
    "total= calculator1.price+calculator2.price+calculator3.price\n",
    "total"
   ]
  }
 ],
 "metadata": {
  "kernelspec": {
   "display_name": "Python 3",
   "language": "python",
   "name": "python3"
  },
  "language_info": {
   "codemirror_mode": {
    "name": "ipython",
    "version": 3
   },
   "file_extension": ".py",
   "mimetype": "text/x-python",
   "name": "python",
   "nbconvert_exporter": "python",
   "pygments_lexer": "ipython3",
   "version": "3.11.2"
  }
 },
 "nbformat": 4,
 "nbformat_minor": 5
}
