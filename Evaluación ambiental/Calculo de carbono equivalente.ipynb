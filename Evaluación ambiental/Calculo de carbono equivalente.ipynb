{
 "cells": [
  {
   "cell_type": "markdown",
   "id": "47cc2067",
   "metadata": {},
   "source": [
    "<h1> Factor de Emisión del Sistema Eléctrico Nacional 2024 </h1>"
   ]
  },
  {
   "cell_type": "markdown",
   "id": "2526fe3c",
   "metadata": {},
   "source": [
    " el factor de emisión del Sistema Eléctrico Nacional para el cálculo de las emisiones indirectas de gases de efecto invernadero por consumo de electricidad correspondiente al año 2024, es:  \n",
    " <p style=\"text-align: center;\">0.444 tCO2e/MWh</p>"
   ]
  },
  {
   "cell_type": "code",
   "execution_count": null,
   "id": "a51b6eba",
   "metadata": {},
   "outputs": [
    {
     "name": "stdout",
     "output_type": "stream",
     "text": [
      "Total emissions in tCO2e/year:  101.36743674323999\n"
     ]
    }
   ],
   "source": [
    "# Total de energía consummida por todo el sistemas por 3 horas \n",
    "energy=625.493254 #kw/day\n",
    "#convert kw/year to MW/day\n",
    "energy_total_mw=energy/1000 #MW/dia\n",
    "\n",
    "FESEN = 0.444 #tCO2e/MWh\n",
    "\n",
    "#calcculate the total emissions in tCO2e/year\n",
    "emissions = energy_total_mw *FESEN*365 #tCO2e/year\n",
    "print(\"Total emissions in tCO2e/year: \", emissions)\n"
   ]
  }
 ],
 "metadata": {
  "kernelspec": {
   "display_name": "Python 3",
   "language": "python",
   "name": "python3"
  },
  "language_info": {
   "codemirror_mode": {
    "name": "ipython",
    "version": 3
   },
   "file_extension": ".py",
   "mimetype": "text/x-python",
   "name": "python",
   "nbconvert_exporter": "python",
   "pygments_lexer": "ipython3",
   "version": "3.11.2"
  }
 },
 "nbformat": 4,
 "nbformat_minor": 5
}
