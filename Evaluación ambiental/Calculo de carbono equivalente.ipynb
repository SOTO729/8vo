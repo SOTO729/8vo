{
 "cells": [
  {
   "cell_type": "markdown",
   "id": "47cc2067",
   "metadata": {},
   "source": [
    "<h1> Factor de Emisión del Sistema Eléctrico Nacional 2024 </h1>"
   ]
  },
  {
   "cell_type": "markdown",
   "id": "2526fe3c",
   "metadata": {},
   "source": [
    " el factor de emisión del Sistema Eléctrico Nacional para el cálculo de las emisiones indirectas de gases de efecto invernadero por consumo de electricidad correspondiente al año 2024, es:  \n",
    " <p style=\"text-align: center;\">0.444 tCO2e/MWh</p>"
   ]
  }
 ],
 "metadata": {
  "language_info": {
   "name": "python"
  }
 },
 "nbformat": 4,
 "nbformat_minor": 5
}
