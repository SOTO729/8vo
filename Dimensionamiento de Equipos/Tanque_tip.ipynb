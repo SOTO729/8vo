{
 "cells": [
  {
   "cell_type": "code",
   "execution_count": 42,
   "metadata": {},
   "outputs": [],
   "source": [
    "import numpy as np\n",
    "import scipy.optimize as opt"
   ]
  },
  {
   "cell_type": "code",
   "execution_count": 43,
   "metadata": {},
   "outputs": [
    {
     "data": {
      "text/plain": [
       "0.00014223280487035155"
      ]
     },
     "execution_count": 43,
     "metadata": {},
     "output_type": "execute_result"
    }
   ],
   "source": [
    "mm_H2=2#kg/kmol\n",
    "M_H2=200#kg\n",
    "kmol_H2=M_H2/mm_H2\n",
    "mol_H2=kmol_H2*1000\n",
    "m=1000\n",
    "P=172#bar\n",
    "R=8.314e-5\n",
    "T=273.15+25\n",
    "P=P*101325 \n",
    "Z = 0.99704 + P*(6.4149e-9)\n",
    "V=(mol_H2*R*T)/P #m3\n",
    "V\n"
   ]
  },
  {
   "cell_type": "code",
   "execution_count": 44,
   "metadata": {},
   "outputs": [
    {
     "data": {
      "text/plain": [
       "78.86038012429036"
      ]
     },
     "execution_count": 44,
     "metadata": {},
     "output_type": "execute_result"
    }
   ],
   "source": [
    "V =(4157.2)*Z*m*T/P\n",
    "V"
   ]
  },
  {
   "cell_type": "code",
   "execution_count": 48,
   "metadata": {},
   "outputs": [],
   "source": [
    "#Dimensiones del tanque\n",
    "r=4 #m\n",
    "L=10 #m"
   ]
  },
  {
   "cell_type": "code",
   "execution_count": 59,
   "metadata": {},
   "outputs": [
    {
     "data": {
      "text/plain": [
       "5294.630818849998"
      ]
     },
     "execution_count": 59,
     "metadata": {},
     "output_type": "execute_result"
    }
   ],
   "source": [
    "r=4 #m\n",
    "L=100 #m\n",
    "V_semiesferas =(2*np.pi*r**3)/3*2\n",
    "V_semiesferas\n",
    "V_cilindro=np.pi*r**2*L\n",
    "V_cilindro\n",
    "V_tank=V_cilindro+V_semiesferas\n",
    "V_tank"
   ]
  },
  {
   "cell_type": "code",
   "execution_count": 80,
   "metadata": {},
   "outputs": [
    {
     "name": "stdout",
     "output_type": "stream",
     "text": [
      "El valor de L encontrado es: 9.156461609677038\n",
      "Volumen calculado del tanque: 78.86038012429036\n",
      "Volumen objetivo: 78.86038012429036\n"
     ]
    }
   ],
   "source": [
    "import numpy as np\n",
    "from scipy.optimize import root\n",
    "\n",
    "# Parámetros del tanque\n",
    "r = 1.5  # radio en metros\n",
    "\n",
    "# Función que define la ecuación cuyo cero buscamos en función de L.\n",
    "def ecuacion(L, V_obj):\n",
    "    # Volumen de dos semiesferas (equivalente a una esfera): (2*np.pi*r**3)/3*2 = 4*np.pi*r**3/3\n",
    "    V_semiesferas = (2 * np.pi * r**3) / 3 * 2  \n",
    "    # Volumen del cilindro\n",
    "    V_cilindro = np.pi * r**2 * abs(L)  \n",
    "    # La función objetivo: diferencia entre el volumen calculado y el volumen deseado.\n",
    "    return V_cilindro + V_semiesferas - V_obj\n",
    "\n",
    "# Se define el volumen objetivo.\n",
    "# En este ejemplo, se calcula usando L=10 m para obtener V_objetivo,\n",
    "# pero podrías asignar otro valor si buscas redimensionar el tanque.\n",
    "L_inicial_calculo = 10  # valor de L usado para obtener el volumen objetivo\n",
    "V_semiesferas = (2 * np.pi * r**3) / 3 * 2  # volumen de las dos semiesferas\n",
    "V_cilindro = np.pi * r**2 * L_inicial_calculo  # volumen del cilindro\n",
    "V_objetivo = V\n",
    "\n",
    "# Usamos 'root' de scipy.optimize con el método 'hybr' para encontrar L tal que f(L) = 0.\n",
    "# Se ofrece un valor inicial de estimación (por ejemplo, 5 m).\n",
    "solucion = root(ecuacion, x0=[1], args=(V_objetivo,), method='hybr', tol=1e-3)\n",
    "\n",
    "if solucion.success:\n",
    "    L_encontrado = solucion.x[0]\n",
    "    print(\"El valor de L encontrado es:\", L_encontrado)\n",
    "    # Verificación: el volumen calculado con L_encontrado debería ser muy cercano a V_objetivo.\n",
    "    V_cilindro_sol = np.pi * r**2 * L_encontrado\n",
    "    V_total_sol = V_cilindro_sol + V_semiesferas\n",
    "    print(\"Volumen calculado del tanque:\", V_total_sol)\n",
    "    print(\"Volumen objetivo:\", V_objetivo)\n",
    "else:\n",
    "    print(\"No se encontró solución:\", solucion.message)\n"
   ]
  },
  {
   "cell_type": "code",
   "execution_count": 87,
   "metadata": {},
   "outputs": [
    {
     "data": {
      "text/plain": [
       "0.04901596875"
      ]
     },
     "execution_count": 87,
     "metadata": {},
     "output_type": "execute_result"
    }
   ],
   "source": [
    "sigma=2\n",
    "t=P*r*1.5/(2*4e8)\n",
    "t"
   ]
  },
  {
   "cell_type": "code",
   "execution_count": 88,
   "metadata": {},
   "outputs": [
    {
     "data": {
      "text/plain": [
       "44.2677050897899"
      ]
     },
     "execution_count": 88,
     "metadata": {},
     "output_type": "execute_result"
    }
   ],
   "source": [
    "mt = 2800 * (4/3)* np.pi*(r + t)**3 + np.pi*(r + t)**2 * L - V\n",
    "mt/1000"
   ]
  },
  {
   "cell_type": "code",
   "execution_count": null,
   "metadata": {},
   "outputs": [],
   "source": []
  }
 ],
 "metadata": {
  "kernelspec": {
   "display_name": "Python 3",
   "language": "python",
   "name": "python3"
  },
  "language_info": {
   "codemirror_mode": {
    "name": "ipython",
    "version": 3
   },
   "file_extension": ".py",
   "mimetype": "text/x-python",
   "name": "python",
   "nbconvert_exporter": "python",
   "pygments_lexer": "ipython3",
   "version": "3.12.1"
  }
 },
 "nbformat": 4,
 "nbformat_minor": 2
}
