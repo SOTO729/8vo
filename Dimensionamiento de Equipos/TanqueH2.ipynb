{
 "cells": [
  {
   "cell_type": "code",
   "execution_count": null,
   "metadata": {},
   "outputs": [
    {
     "data": {
      "text/plain": [
       "14.41173895348837"
      ]
     },
     "execution_count": 4,
     "metadata": {},
     "output_type": "execute_result"
    }
   ],
   "source": [
    "mm_H2=2#kg/kmol\n",
    "M_H2=200#kg\n",
    "kmol_H2=M_H2/mm_H2\n",
    "mol_H2=kmol_H2*1000\n",
    "P=172#bar\n",
    "R=8.314e-5\n",
    "T=273.15+25\n",
    "V=(mol_H2*R*T)/P #m3\n",
    "V\n"
   ]
  },
  {
   "cell_type": "code",
   "execution_count": null,
   "metadata": {},
   "outputs": [],
   "source": []
  }
 ],
 "metadata": {
  "kernelspec": {
   "display_name": "Python 3",
   "language": "python",
   "name": "python3"
  },
  "language_info": {
   "codemirror_mode": {
    "name": "ipython",
    "version": 3
   },
   "file_extension": ".py",
   "mimetype": "text/x-python",
   "name": "python",
   "nbconvert_exporter": "python",
   "pygments_lexer": "ipython3",
   "version": "3.12.1"
  }
 },
 "nbformat": 4,
 "nbformat_minor": 2
}
