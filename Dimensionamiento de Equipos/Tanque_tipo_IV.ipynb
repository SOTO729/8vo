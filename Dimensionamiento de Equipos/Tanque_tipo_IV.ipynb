{
 "cells": [
  {
   "cell_type": "code",
   "execution_count": 186,
   "metadata": {},
   "outputs": [],
   "source": [
    "import numpy as np\n",
    "import scipy.optimize as opt"
   ]
  },
  {
   "cell_type": "code",
   "execution_count": 204,
   "metadata": {},
   "outputs": [],
   "source": [
    "rho_tank=2164.87 #kg/m3\n",
    "m=1000\n",
    "P=172.37#bar\n",
    "T=273.15+25\n",
    "Tref=10+273.15\n",
    "Po=31.026\n",
    "tipo='semi' # 'hemi' or 'semi'"
   ]
  },
  {
   "cell_type": "code",
   "execution_count": 205,
   "metadata": {},
   "outputs": [
    {
     "name": "stdout",
     "output_type": "stream",
     "text": [
      "Volumen calculado del tanque: 80.14009121976606 m3\n",
      "Radio del tanque: 2.8558180817797267 m\n",
      "Longitud del tanque: 4.079738686263292 m\n",
      "Espesor del tanque: 60.30200935373034 mm\n",
      "Masa del tanque: 360.3165304621548 ton\n"
     ]
    }
   ],
   "source": [
    "import numpy as np\n",
    "from scipy.optimize import root\n",
    "\n",
    "# ---------------------------\n",
    "# Parámetros iniciales y constantes\n",
    "# ---------------------------\n",
    "# Puedes ajustar estos valores según tu aplicación.\n",
    "# En este ejemplo, se definirán algunos valores de ejemplo para P, m y T.\n",
    "# (Ten en cuenta que en tu código original probablemente ya estén definidos.)\n",
    "P = P * 100000  # convertir a Pascales.\n",
    "T = 300         # temperatura en Kelvin\n",
    "\n",
    "rho_tank=4460   # kg/m3\n",
    "\n",
    "# Factor y variables usados en los cálculos de volumen (según tu ecuación original)\n",
    "Z = 0.99704 + P * (6.4149e-9)\n",
    "V_objetivo = (4157.2 * Z * m * T) / P  # Volumen objetivo calculado (m³)\n",
    "V=V_objetivo\n",
    "\n",
    "# Valor inicial para la iteración: x[0] será r y x[1] será L.\n",
    "x0 = [1.5, 3.0]  # Ejemplo: r=1.5 m y L=3.0 m\n",
    "\n",
    "# ---------------------------\n",
    "# Definición del sistema de ecuaciones\n",
    "# ---------------------------\n",
    "def ecuaciones(x, V_obj):\n",
    "    r, L = x[0], x[1]\n",
    "    # Volumen del cilindro\n",
    "    if tipo == 'hemi':\n",
    "        V_tank = (4 / 3) * np.pi * r**3 + (L - 2*r) * np.pi * r**2\n",
    "    elif tipo == 'semi':\n",
    "        V_tank = (2 / 3) * np.pi * r**3 + (L - r) * np.pi * r**2\n",
    "    else:\n",
    "        raise ValueError(\"Tipo de tanque no reconocido. Usa 'hemi' o 'semi'.\")\n",
    "    \n",
    "    # Primera ecuación: el volumen total debe coincidir con V_objetivo.\n",
    "    f1 = V_tank - V_obj\n",
    "    # Segunda ecuación: imponer la relación de diseño entre L y r.\n",
    "    sigma = 15306*100000 #Thedesign strength of carbon fiber laminate inthe hoop direction is assumed to be 15,306bar.\n",
    "    #ASME Boiler & Pressure Vessel Code, Sección VIII, División 1.\n",
    "    t = (P * r * 2.25) / (0.8*sigma)\n",
    "    f2=((r*2)/L)-1.4\n",
    "    return [f1, f2]\n",
    "\n",
    "# ---------------------------\n",
    "# Resolver el sistema usando la función root con el método 'hybr'\n",
    "# ---------------------------\n",
    "solucion = root(ecuaciones, x0=x0, args=(V_objetivo,), method='hybr', tol=1e-3)\n",
    "\n",
    "if solucion.success:\n",
    "    global L_encontrado\n",
    "    global V_cilindro_sol\n",
    "    global V_total_sol\n",
    "    global mt\n",
    "    global t\n",
    "    r, L_encontrado = solucion.x[0], solucion.x[1]\n",
    "    # Cálculo de volúmenes usando los valores encontrados.\n",
    "    if tipo == 'hemi':\n",
    "        V_total_sol = (4 / 3) * np.pi * r**3 + (L_encontrado - 2*r) * np.pi * r**2\n",
    "    elif tipo == 'semi':\n",
    "        V_total_sol = (2 / 3) * np.pi * r**3 + (L_encontrado - r) * np.pi * r**2\n",
    "    else:\n",
    "        raise ValueError(\"Tipo de tanque no reconocido. Usa 'hemi' o 'semi'.\")\n",
    "\n",
    "    #print(\"Volumen objetivo:\", V_objetivo, \"m3\")\n",
    "    print(\"Volumen calculado del tanque:\", V_total_sol, \"m3\")\n",
    "    print(\"Radio del tanque:\", r, \"m\")\n",
    "    print(\"Longitud del tanque:\", L_encontrado, \"m\")\n",
    "\n",
    "    # ---------------------------\n",
    "    # Ejemplo de cálculo del espesor (usando una ecuación de pared delgada)\n",
    "    # ---------------------------\n",
    "    # Aquí se usa la ecuación: t = (P * r * FS) / (2 * sigma)\n",
    "    # Por ejemplo, si FS = 1.5 y suponemos sigma = 50e6 Pa (50 MPa):\n",
    "    sigma = 15306*100000 #Thedesign strength of carbon fiber laminate inthe hoop direction is assumed to be 15,306bar.\n",
    "    #ASME Boiler & Pressure Vessel Code, Sección VIII, División 1.\n",
    "    t = (P * r * 1.5) / (0.8*sigma)\n",
    "    print(\"Espesor del tanque:\", t*1000, \"mm\")\n",
    "\n",
    "    # ---------------------------\n",
    "    # Ejemplo de cálculo de la masa del tanque.\n",
    "    # Supongamos que la masa se calcula considerando un incremento de r (r + t)\n",
    "    # y que el volumen se compone de la esfera engrosada y el cilindro engrosado.\n",
    "    if tipo == 'hemi':\n",
    "        mt = rho_tank * ( (4/3) * np.pi * (r + t)**3 + np.pi * (r + t)**2 * L_encontrado - V_objetivo )\n",
    "        mt = mt / 1000  # conversión a toneladas\n",
    "    elif tipo == 'semi':\n",
    "        mt = rho_tank * ( (2/3) * np.pi * (r + t)**3 + np.pi * (r + t)**2 * L_encontrado - V_objetivo )\n",
    "        mt = mt / 1000  # conversión a toneladas\n",
    "    else:\n",
    "        raise ValueError(\"Tipo de tanque no reconocido. Usa 'hemi' o 'semi'.\")\n",
    "    \n",
    "    print(\"Masa del tanque:\", mt, \"ton\")\n",
    "else:\n",
    "    print(\"No se encontró solución:\", solucion.message)\n"
   ]
  },
  {
   "cell_type": "code",
   "execution_count": 189,
   "metadata": {},
   "outputs": [
    {
     "data": {
      "text/plain": [
       "2164.8784329141313"
      ]
     },
     "execution_count": 189,
     "metadata": {},
     "output_type": "execute_result"
    }
   ],
   "source": [
    "volumen = (2/3) * np.pi * (17.5**3)\n",
    "24.3/(volumen/1000000)"
   ]
  },
  {
   "cell_type": "code",
   "execution_count": 190,
   "metadata": {},
   "outputs": [
    {
     "data": {
      "text/plain": [
       "9833.971859795816"
      ]
     },
     "execution_count": 190,
     "metadata": {},
     "output_type": "execute_result"
    }
   ],
   "source": [
    "import numpy as np\n",
    "import pandas as pd\n",
    "import matplotlib.pyplot as plt\n",
    "\n",
    "# Parámetros extraídos de la imagen (en cm)\n",
    "r_internal = 17.5         # Inner Radius (cm)\n",
    "outer_diameter = 37.4     # Outer Diameter (cm)\n",
    "r_external = outer_diameter / 2  # Outer Radius (cm)\n",
    "t = r_external - r_internal      # Espesor de la pared (cm)\n",
    "\n",
    "# Cálculo de volúmenes (en cm³)\n",
    "# Volumen de una hemisfera: V = (2/3) * pi * r**3\n",
    "V_internal = (2/3) * np.pi * (r_internal**3)\n",
    "V_external = (2/3) * np.pi * (r_external**3)\n",
    "V_walls = V_external - V_internal\n",
    "24.3/(V_walls/1000000)\n",
    "\n"
   ]
  },
  {
   "cell_type": "code",
   "execution_count": null,
   "metadata": {},
   "outputs": [],
   "source": []
  },
  {
   "cell_type": "code",
   "execution_count": 191,
   "metadata": {},
   "outputs": [
    {
     "data": {
      "text/plain": [
       "np.float64(7.0)"
      ]
     },
     "execution_count": 191,
     "metadata": {},
     "output_type": "execute_result"
    }
   ],
   "source": [
    "P1=Po\n",
    "P2=P\n",
    "N_etapas=np.ceil((np.log(P2)/np.log(P1))/np.log(2))\n",
    "N_etapas"
   ]
  },
  {
   "cell_type": "code",
   "execution_count": 192,
   "metadata": {},
   "outputs": [
    {
     "name": "stdout",
     "output_type": "stream",
     "text": [
      "La potencia requerida para la compresión es: 18931358.55 kW\n"
     ]
    }
   ],
   "source": [
    "def Cp_Cv(T):\n",
    "        return 1.5949974007561318 * T ** (-0.021034016066268504)\n",
    "def compressor_power(m_dot, T1, P_ratio, gamma, cp, eta):\n",
    "    \"\"\"\n",
    "    Calcula la potencia requerida por un compresor para la compresión adiabática de un gas.\n",
    "\n",
    "    Parámetros:\n",
    "      m_dot : float\n",
    "          Caudal másico del gas (kg/s).\n",
    "      T1 : float\n",
    "          Temperatura de entrada al compresor (K).\n",
    "      P_ratio : float\n",
    "          Relación de presión (P2 / P1, sin unidades) a la que se desea comprimir.\n",
    "      gamma : float\n",
    "          Relación de calores específicos (Cp/Cv).\n",
    "      cp : float\n",
    "          Calor específico a presión constante (J/kg·K).\n",
    "      eta : float\n",
    "          Eficiencia del compresor (valor entre 0 y 1).\n",
    "\n",
    "    Retorna:\n",
    "      power : float\n",
    "          Potencia del compresor requerida (W, vatios).\n",
    "    \"\"\"\n",
    "    # Cálculo del trabajo específico en J/kg\n",
    "    specific_work = (cp * T1 * gamma / (gamma - 1)) * ((P_ratio)**((gamma - 1) / gamma) - 1)\n",
    "    \n",
    "    # Potencia requerida = caudal másico * trabajo específico, corregido por la eficiencia\n",
    "    power = m_dot * specific_work / eta\n",
    "    return power/1000\n",
    "\n",
    "# Ejemplo de uso:\n",
    "if __name__ == \"__main__\":\n",
    "    # Parámetros de entrada (se pueden ajustar según el caso particular)\n",
    "    T1      = 300           # Temperatura de entrada en Kelvin\n",
    "    P_ratio = 10            # Relación de presiones (por ejemplo, de 1 a 10)\n",
    "    gamma   = 1.40          # Relación de calores específicos (puede variar para hidrógeno, p.ej., ~1.40 en bajas temperaturas)\n",
    "    cp      = 14300         # Calor específico de hidrógeno a presión constante (J/kg·K). Nota: El valor de hidrógeno es mayor debido a su baja masa molar.\n",
    "    eta     = 0.75          # Eficiencia del compresor (75%)\n",
    "\n",
    "    CP=19.67099783 + 0.069681519*T - 0.000200098*T**2 + 2.89493E-07*T**3 - 2.22475E-10*T**4 + 8.81466E-14*T**5 - 1.42043E-17*T**6\n",
    "    CP=CP/2*1000\n",
    "    \n",
    "    \n",
    "    power_required = compressor_power(m, T, P_ratio, Cp_Cv(T), CP, eta)\n",
    "    print(f\"La potencia requerida para la compresión es: {power_required:.2f} kW\")\n"
   ]
  },
  {
   "cell_type": "code",
   "execution_count": 193,
   "metadata": {},
   "outputs": [
    {
     "data": {
      "text/plain": [
       "474.6510488485655"
      ]
     },
     "execution_count": 193,
     "metadata": {},
     "output_type": "execute_result"
    }
   ],
   "source": [
    "HhH2=(19.67099783*(T-Tref) + 0.069681519/2*(T**2-Tref**2) - 0.000200098/3*(T**3-Tref**3) + 2.89493E-07/4*(T**4-Tref*4) - 2.22475E-10/5*(T**5-Tref**5) + 8.81466E-14/6*(T**6-Tref**6) - 1.42043E-17/7*(T**6-Tref**6))/2\n",
    "HhH2"
   ]
  },
  {
   "cell_type": "code",
   "execution_count": 194,
   "metadata": {},
   "outputs": [
    {
     "data": {
      "text/plain": [
       "71.38708848243724"
      ]
     },
     "execution_count": 194,
     "metadata": {},
     "output_type": "execute_result"
    }
   ],
   "source": [
    "HhH2O = (-22.41701677*(T-Tref) + 0.876972156/2*(T**2-Tref**2) -0.002570393/3*(T**3-Tref**3) + 2.48383E-06/4*(T**4-Tref**4))/18.015\n",
    "HhH2O"
   ]
  },
  {
   "cell_type": "code",
   "execution_count": 195,
   "metadata": {},
   "outputs": [],
   "source": [
    "rho_tank=4500 #kg/m3\n",
    "m=1000/3600\n",
    "P=172.37#bar\n",
    "R=8.314e-5\n",
    "T=273.15+25\n",
    "Tref=10+273.15\n",
    "Po=31.026"
   ]
  },
  {
   "cell_type": "code",
   "execution_count": 196,
   "metadata": {},
   "outputs": [],
   "source": [
    "import numpy as np\n",
    "from scipy.optimize import root\n",
    "\n",
    "def balance(x, T, Tref, m):\n",
    "    global e\n",
    "    global s\n",
    "    \"\"\"\n",
    "    Calcula la función de balance para el proceso,\n",
    "    devolviendo la diferencia e - s.\n",
    "\n",
    "    Parámetros:\n",
    "      x    : vector de incógnitas; se asume que x[0] es la variable a encontrar.\n",
    "      T    : temperatura en K.\n",
    "      Tref : temperatura de referencia en K.\n",
    "      m    : masa del hidrógeno (kg).\n",
    "\n",
    "    La función utiliza dos series polinómicas (para H2 y H2O)\n",
    "    para calcular, respectivamente, las energías 'e' y 's', y retorna e - s.\n",
    "    \"\"\"\n",
    "    # Calcular la entalpía (u otra propiedad) para hidrógeno\n",
    "    Ta=15+273.15\n",
    "    HhH2 = ( 19.67099783*(T - Tref)\n",
    "              + (0.069681519/2) * (T**2 - Tref**2)\n",
    "              - (0.000200098/3) * (T**3 - Tref**3)\n",
    "              + (2.89493E-07/4) * (T**4 - Tref**4)\n",
    "              - (2.22475E-10/5) * (T**5 - Tref**5)\n",
    "              + (8.81466E-14/6) * (T**6 - Tref**6)\n",
    "              - (1.42043E-17/7) * (T**6 - Tref**6)\n",
    "            ) / 2\n",
    "    e = HhH2 * m\n",
    "\n",
    "    # Calcular la entalpía (u otra propiedad) para agua (H2O)\n",
    "    HhH2O = ( -22.41701677*(Ta - Tref)\n",
    "               + (0.876972156/2) * (Ta**2 - Tref**2)\n",
    "               - (0.002570393/3) * (Ta**3 - Tref**3)\n",
    "               + (2.48383E-06/4) * (Ta**4 - Tref**4)\n",
    "             ) / 18.015\n",
    "    s = HhH2O * x[0]\n",
    "    \n",
    "    return e - s\n"
   ]
  },
  {
   "cell_type": "code",
   "execution_count": 197,
   "metadata": {},
   "outputs": [],
   "source": [
    "P_diff=P-Po\n",
    "P_etapa=P_diff/N_etapas"
   ]
  },
  {
   "cell_type": "code",
   "execution_count": 198,
   "metadata": {},
   "outputs": [
    {
     "name": "stdout",
     "output_type": "stream",
     "text": [
      "T 158.7904677393928\n",
      "Solución encontrada: x = 1.051367\n",
      "T 162.00141174018515\n",
      "Solución encontrada: x = 1.050879\n",
      "T 157.7841741067288\n",
      "Solución encontrada: x = 1.051560\n",
      "T 151.0880308302572\n",
      "Solución encontrada: x = 1.053333\n",
      "T 143.8052473893814\n",
      "Solución encontrada: x = 1.056202\n",
      "T 136.6334894918055\n",
      "Solución encontrada: x = 1.059975\n",
      "T 129.83677988789555\n",
      "Solución encontrada: x = 1.064421\n"
     ]
    }
   ],
   "source": [
    "Po=Po\n",
    "Pf=P\n",
    "P_acum=[Po]\n",
    "Temps=[300]\n",
    "Tref=10+273.15\n",
    "Qs,Ts,m_H2O,comp,power,Ps=[],[],[],[],[],[]\n",
    "for i in range(int(N_etapas)):\n",
    "    P1=sum(P_acum)\n",
    "    P_acum.append(P_etapa)\n",
    "    P2=sum(P_acum)\n",
    "    Z = 0.99704 + P * (6.4149e-9)\n",
    "    V = ((m)/(2)*8.314*Temps[-1])/sum(P_acum)\n",
    "    V2=V*(P1/P2)**(1/Cp_Cv(Temps[-1]))\n",
    "    Z = 0.99704 + P2 * 1e6 * (6.4149e-9)\n",
    "    Ti=(sum(P_acum)*V2*2)/(m*Z*8.314)\n",
    "    print('T',Ti)\n",
    "    # Valor inicial para la incógnita x (en este caso, es un vector de una dimensión)\n",
    "    x0 = [1.0]\n",
    "\n",
    "    # Se utiliza scipy.optimize.root con método 'hybr'\n",
    "    solucion = root(balance, x0, args=(25+273.15, Ti, m), method='hybr', tol=1e-1)\n",
    "\n",
    "    if solucion.success:\n",
    "        x_encontrado = solucion.x[0]\n",
    "        print(f\"Solución encontrada: x = {x_encontrado:.6f}\")\n",
    "        Temps.append(25+273.15)\n",
    "        Qs.append(float(e))\n",
    "        Ts.append((25+273.15))\n",
    "        m_H2O.append(float(x_encontrado))\n",
    "        comp.append('No. '+str(i+1))\n",
    "        CP=19.67099783 + 0.069681519*T - 0.000200098*T**2 + 2.89493E-07*T**3 - 2.22475E-10*T**4 + 8.81466E-14*T**5 - 1.42043E-17*T**6\n",
    "        CP=CP/2*1000\n",
    "        power.append(float(compressor_power(m, Ti, P2/P1, Cp_Cv(Ti), CP, 0.75)))\n",
    "        Ps.append(P2)\n",
    "    else:\n",
    "        print(\"No se encontró solución:\", solucion.message)\n",
    "        \n",
    "\n",
    "\n",
    "    "
   ]
  },
  {
   "cell_type": "code",
   "execution_count": 199,
   "metadata": {},
   "outputs": [
    {
     "data": {
      "text/html": [
       "<div>\n",
       "<style scoped>\n",
       "    .dataframe tbody tr th:only-of-type {\n",
       "        vertical-align: middle;\n",
       "    }\n",
       "\n",
       "    .dataframe tbody tr th {\n",
       "        vertical-align: top;\n",
       "    }\n",
       "\n",
       "    .dataframe thead th {\n",
       "        text-align: right;\n",
       "    }\n",
       "</style>\n",
       "<table border=\"1\" class=\"dataframe\">\n",
       "  <thead>\n",
       "    <tr style=\"text-align: right;\">\n",
       "      <th></th>\n",
       "      <th>Compressor</th>\n",
       "      <th>T (K)</th>\n",
       "      <th>P (bar)</th>\n",
       "      <th>Cooling H2O (kg/s)</th>\n",
       "      <th>Q (kW)</th>\n",
       "      <th>W (kW)</th>\n",
       "      <th>Consumption (kW)</th>\n",
       "    </tr>\n",
       "  </thead>\n",
       "  <tbody>\n",
       "    <tr>\n",
       "      <th>0</th>\n",
       "      <td>No. 1</td>\n",
       "      <td>298.15</td>\n",
       "      <td>51.218</td>\n",
       "      <td>1.051367</td>\n",
       "      <td>540.954909</td>\n",
       "      <td>457.935967</td>\n",
       "      <td>998.890875</td>\n",
       "    </tr>\n",
       "    <tr>\n",
       "      <th>1</th>\n",
       "      <td>No. 2</td>\n",
       "      <td>298.15</td>\n",
       "      <td>71.410</td>\n",
       "      <td>1.050879</td>\n",
       "      <td>529.022526</td>\n",
       "      <td>301.767031</td>\n",
       "      <td>830.789557</td>\n",
       "    </tr>\n",
       "    <tr>\n",
       "      <th>2</th>\n",
       "      <td>No. 3</td>\n",
       "      <td>298.15</td>\n",
       "      <td>91.602</td>\n",
       "      <td>1.051560</td>\n",
       "      <td>544.687203</td>\n",
       "      <td>217.431741</td>\n",
       "      <td>762.118943</td>\n",
       "    </tr>\n",
       "    <tr>\n",
       "      <th>3</th>\n",
       "      <td>No. 4</td>\n",
       "      <td>298.15</td>\n",
       "      <td>111.794</td>\n",
       "      <td>1.053333</td>\n",
       "      <td>569.432287</td>\n",
       "      <td>165.303163</td>\n",
       "      <td>734.735451</td>\n",
       "    </tr>\n",
       "    <tr>\n",
       "      <th>4</th>\n",
       "      <td>No. 5</td>\n",
       "      <td>298.15</td>\n",
       "      <td>131.986</td>\n",
       "      <td>1.056202</td>\n",
       "      <td>596.159713</td>\n",
       "      <td>130.483501</td>\n",
       "      <td>726.643214</td>\n",
       "    </tr>\n",
       "    <tr>\n",
       "      <th>5</th>\n",
       "      <td>No. 6</td>\n",
       "      <td>298.15</td>\n",
       "      <td>152.178</td>\n",
       "      <td>1.059975</td>\n",
       "      <td>622.280770</td>\n",
       "      <td>105.913498</td>\n",
       "      <td>728.194268</td>\n",
       "    </tr>\n",
       "    <tr>\n",
       "      <th>6</th>\n",
       "      <td>No. 7</td>\n",
       "      <td>298.15</td>\n",
       "      <td>172.370</td>\n",
       "      <td>1.064421</td>\n",
       "      <td>646.844117</td>\n",
       "      <td>87.851213</td>\n",
       "      <td>734.695330</td>\n",
       "    </tr>\n",
       "    <tr>\n",
       "      <th>7</th>\n",
       "      <td>Total</td>\n",
       "      <td>298.15</td>\n",
       "      <td>172.370</td>\n",
       "      <td>7.387737</td>\n",
       "      <td>4049.381525</td>\n",
       "      <td>1466.686112</td>\n",
       "      <td>5516.067638</td>\n",
       "    </tr>\n",
       "  </tbody>\n",
       "</table>\n",
       "</div>"
      ],
      "text/plain": [
       "  Compressor   T (K)  P (bar)  Cooling H2O (kg/s)       Q (kW)       W (kW)  \\\n",
       "0      No. 1  298.15   51.218            1.051367   540.954909   457.935967   \n",
       "1      No. 2  298.15   71.410            1.050879   529.022526   301.767031   \n",
       "2      No. 3  298.15   91.602            1.051560   544.687203   217.431741   \n",
       "3      No. 4  298.15  111.794            1.053333   569.432287   165.303163   \n",
       "4      No. 5  298.15  131.986            1.056202   596.159713   130.483501   \n",
       "5      No. 6  298.15  152.178            1.059975   622.280770   105.913498   \n",
       "6      No. 7  298.15  172.370            1.064421   646.844117    87.851213   \n",
       "7      Total  298.15  172.370            7.387737  4049.381525  1466.686112   \n",
       "\n",
       "   Consumption (kW)  \n",
       "0        998.890875  \n",
       "1        830.789557  \n",
       "2        762.118943  \n",
       "3        734.735451  \n",
       "4        726.643214  \n",
       "5        728.194268  \n",
       "6        734.695330  \n",
       "7       5516.067638  "
      ]
     },
     "execution_count": 199,
     "metadata": {},
     "output_type": "execute_result"
    }
   ],
   "source": [
    "import pandas as pd\n",
    "# Crear un DataFrame con los datos\n",
    "data = {\n",
    "\t\"Compressor\": comp,\n",
    "    \"T (K)\": Ts,\n",
    "    \"P (bar)\": Ps,  # Convertir de Pa a bar\n",
    "\t\"Cooling H2O (kg/s)\": m_H2O,\n",
    "\t\"Q (kW)\": Qs,\n",
    "    \"W (kW)\": power,\n",
    "    \"Consumption (kW)\": np.array(Qs)+ np.array(power)\n",
    "}\n",
    "\n",
    "df_compresores = pd.DataFrame(data)\n",
    "df_compresores.loc[df_compresores.shape[0]] = [\"Total\", Temps[-1], Ps[-1], sum(m_H2O), sum(Qs), sum(power), sum(Qs)+ sum(power)]\n",
    "\n",
    "# Mostrar la tabla\n",
    "df_compresores"
   ]
  }
 ],
 "metadata": {
  "kernelspec": {
   "display_name": "Python 3",
   "language": "python",
   "name": "python3"
  },
  "language_info": {
   "codemirror_mode": {
    "name": "ipython",
    "version": 3
   },
   "file_extension": ".py",
   "mimetype": "text/x-python",
   "name": "python",
   "nbconvert_exporter": "python",
   "pygments_lexer": "ipython3",
   "version": "3.12.1"
  }
 },
 "nbformat": 4,
 "nbformat_minor": 2
}
